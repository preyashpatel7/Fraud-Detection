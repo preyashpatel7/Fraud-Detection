{
 "cells": [
  {
   "cell_type": "markdown",
   "id": "c6816534-223d-4d19-9fa8-4f8f373bfe03",
   "metadata": {},
   "source": [
    "1. Raw data will be stored in BigQuery\n",
    "2. Features will be calculated using Bigquery SQL\n",
    "3. Offline Feature Store will be BigQuery\n",
    "4. Online store will be DataStore\n",
    "5. Model FrameWork TF, SKLearn\n",
    "6. Model hosted on GCP AI Platform"
   ]
  },
  {
   "cell_type": "code",
   "execution_count": null,
   "id": "6f2e1816-bcf1-4b0e-b74c-e99d9dcc44f1",
   "metadata": {
    "tags": []
   },
   "outputs": [],
   "source": [
    "!pip install -q feast['gcp']"
   ]
  },
  {
   "cell_type": "code",
   "execution_count": null,
   "id": "dc64a047-93da-4341-8879-0b145722491f",
   "metadata": {
    "tags": []
   },
   "outputs": [],
   "source": [
    "!pip install -q feast[redis]\n"
   ]
  },
  {
   "cell_type": "code",
   "execution_count": null,
   "id": "c370d7f8-6a1e-4aa8-94d5-c8b36ec851ea",
   "metadata": {
    "tags": []
   },
   "outputs": [],
   "source": [
    "!feast version"
   ]
  },
  {
   "cell_type": "markdown",
   "id": "9c45708e-d873-48fa-ab20-846af2334c35",
   "metadata": {},
   "source": [
    "Project Configuration"
   ]
  },
  {
   "cell_type": "code",
   "execution_count": null,
   "id": "b6ece7d9-aed0-4ab0-b604-40dea57f5dcb",
   "metadata": {
    "tags": []
   },
   "outputs": [],
   "source": [
    "PROJECT_ID = \"tokyo-country-452614-f7\"\n",
    "BUCKET_NAME = \"movielensestorage\"\n",
    "BIGQUERY_DATASET_NAME = \"credit_card_dump\"\n",
    "AI_PLATFORM_MODEL_NAME = \"Fraud-_detection_model\"\n",
    "\n",
    "!gcloud config set project \"$PROJECT_ID\""
   ]
  },
  {
   "cell_type": "code",
   "execution_count": null,
   "id": "d3140971-5224-4921-ba89-ee4f61b71cc1",
   "metadata": {
    "tags": []
   },
   "outputs": [],
   "source": [
    "!echo project_id = $PROJECT_ID "
   ]
  },
  {
   "cell_type": "markdown",
   "id": "999bc9e0-0418-4fd7-bab1-d7ec0722f2b1",
   "metadata": {},
   "source": [
    "Create Bucket if not already created"
   ]
  },
  {
   "cell_type": "code",
   "execution_count": null,
   "id": "d443190c-d4fe-4d23-8f8a-55b19271425b",
   "metadata": {},
   "outputs": [],
   "source": [
    "!gsutil mb gs://$BUCKET_NAME"
   ]
  },
  {
   "cell_type": "markdown",
   "id": "f2857da5-aef0-46ef-add8-6f6c8c44c315",
   "metadata": {},
   "source": [
    "Create BigQuery Dataset IF NOT ALREADY EXISTS"
   ]
  },
  {
   "cell_type": "code",
   "execution_count": null,
   "id": "8bc44570-54b3-4e45-8b7c-7ea31006513c",
   "metadata": {},
   "outputs": [],
   "source": [
    "!bq mk $BIGQUERY_DATASET_NAME"
   ]
  },
  {
   "cell_type": "markdown",
   "id": "722e8377-fa08-4ddb-862d-9d1dbb763a2b",
   "metadata": {},
   "source": [
    "Initialize Feature Repository"
   ]
  },
  {
   "cell_type": "code",
   "execution_count": null,
   "id": "48f2d12b-0f40-4744-a093-ff07a04bf43f",
   "metadata": {
    "tags": []
   },
   "outputs": [],
   "source": [
    "!feast init fraud_detection -t gcp"
   ]
  },
  {
   "cell_type": "markdown",
   "id": "675ce9c5-6920-48bd-9213-d0618fe60738",
   "metadata": {},
   "source": [
    "Configure Feature Store to run on BQ for batch processing and Datastore for Online predictions"
   ]
  },
  {
   "cell_type": "code",
   "execution_count": null,
   "id": "84fb748a-c0b9-4e32-a076-c5d00c6b86e8",
   "metadata": {
    "tags": []
   },
   "outputs": [],
   "source": [
    "%cd fraud_detection"
   ]
  },
  {
   "cell_type": "code",
   "execution_count": 78,
   "id": "df549216-db42-478a-8734-2718212a48c9",
   "metadata": {
    "tags": []
   },
   "outputs": [],
   "source": [
    "feature_store = \\\n",
    "f\"\"\"project: fraud_detection\n",
    "registry: gs://{BUCKET_NAME}/registry.db\n",
    "provider: gcp\n",
    "offline_store:\n",
    "  type: bigquery\n",
    "  dataset: credit_card_dump\n",
    "  project_id: tokyo-country-452614-f7\n",
    "online_store:\n",
    "  type: redis\n",
    "  redis_type: redis\n",
    "  connection_string: 10.56.0.6:6379\"\"\"\n",
    "\n",
    "with open('feature_store.yaml',\"w\") as writer:\n",
    "    writer.write(feature_store)"
   ]
  },
  {
   "cell_type": "code",
   "execution_count": null,
   "id": "265a525b-6250-4f47-bc05-05d8c18225f2",
   "metadata": {
    "tags": []
   },
   "outputs": [],
   "source": [
    "%cd feature_repo"
   ]
  },
  {
   "cell_type": "code",
   "execution_count": null,
   "id": "42a96b09-0945-4812-afa0-d9afc6c9af89",
   "metadata": {
    "tags": []
   },
   "outputs": [],
   "source": [
    "%%bigquery\n",
    "\n",
    "select * from feast-oss.fraud_tutorial.transactions limit 1000"
   ]
  },
  {
   "cell_type": "markdown",
   "id": "6846ebcc-46a8-4dd2-9fa8-54f07486489f",
   "metadata": {},
   "source": [
    "Create frature table using BQSQL\n",
    "\n",
    "This function will group by user_id for particular day and count number of transactions made on that day. It will run for Past 7 days transactions for each user. "
   ]
  },
  {
   "cell_type": "code",
   "execution_count": null,
   "id": "a123c23c-2661-4d03-8be5-3f8cebf72b8c",
   "metadata": {
    "tags": []
   },
   "outputs": [],
   "source": [
    "from datetime import datetime,timedelta\n",
    "from google.cloud import bigquery\n",
    "import time\n",
    "\n",
    "def generate_user_count_features(aggregation_end_date):\n",
    "    table_id = f\"{PROJECT_ID}.{BIGQUERY_DATASET_NAME}.user_count_transactions_7d\"\n",
    "    \n",
    "    client = bigquery.Client()\n",
    "    job_config = bigquery.QueryJobConfig(destination=table_id,write_disposition='WRITE_APPEND')\n",
    "    \n",
    "    aggregation_start_date = datetime.now() - timedelta(days=7) #April 13 - 7 = April 6\n",
    "    \n",
    "    sql = f\"\"\"\n",
    "    SELECT\n",
    "        src_account AS user_id,\n",
    "        COUNT(*) AS transaction_count_7d,\n",
    "        timestamp'{aggregation_end_date.isoformat()}' AS feature_timestamp\n",
    "    FROM\n",
    "        feast-oss.fraud_tutorial.transactions\n",
    "    WHERE\n",
    "        timestamp BETWEEN TIMESTAMP('{aggregation_start_date.isoformat()}')\n",
    "        AND TIMESTAMP('{aggregation_end_date.isoformat()}')\n",
    "    GROUP BY\n",
    "        user_id\n",
    "    \"\"\"\n",
    "    \n",
    "    query_job = client.query(sql,job_config=job_config)\n",
    "    query_job.result()\n",
    "    print(f\"Generated features as of {aggregation_end_date.isoformat()}\")\n",
    "    \n",
    "    \n",
    "def backfill_features(earliest_aggregation_end_date,interval,num_iterations):\n",
    "    aggregation_end_date = earliest_aggregation_end_date  #April 06\n",
    "    for _ in range(num_iterations):\n",
    "        generate_user_count_features(aggregation_end_date=aggregation_end_date)\n",
    "        time.sleep(1)\n",
    "        aggregation_end_date+=interval\n",
    "        \n",
    "if __name__ == '__main__':\n",
    "    backfill_features(\n",
    "        earliest_aggregation_end_date=datetime.now() - timedelta(days=7),  #april 06\n",
    "        interval = timedelta(days=1),\n",
    "        num_iterations=8\n",
    "    )\n",
    "    \n",
    "    "
   ]
  },
  {
   "cell_type": "code",
   "execution_count": null,
   "id": "c777829b-f4c0-469c-9406-2d5fc1afc858",
   "metadata": {
    "tags": []
   },
   "outputs": [],
   "source": [
    "%%bigquery\n",
    "\n",
    "select * from tokyo-country-452614-f7.credit_card_dump.user_count_transactions_7d limit 1000"
   ]
  },
  {
   "cell_type": "code",
   "execution_count": null,
   "id": "9f97f314-7e14-445f-b56b-8e3cc405bbc4",
   "metadata": {
    "tags": []
   },
   "outputs": [],
   "source": [
    "pwd"
   ]
  },
  {
   "cell_type": "code",
   "execution_count": null,
   "id": "c36bb997-f1b2-49e0-b7ad-0816866a5131",
   "metadata": {
    "tags": []
   },
   "outputs": [],
   "source": [
    "%%writefile fraud_features.py\n",
    "\n",
    "from datetime import timedelta\n",
    "from feast import BigQuerySource, FeatureView, Entity, ValueType\n",
    "\n",
    "#Add an entity for users\n",
    "user_entity = Entity(\n",
    "    name=\"user_id\",\n",
    "    description=\"A user that has made or received a transaction\",\n",
    "    value_type=ValueType.STRING\n",
    ")\n",
    "\n",
    "#Add a FeatureView based on user_count_transactions_7d table\n",
    "\n",
    "user_7d_trans_stats_fv = FeatureView(\n",
    "    name = \"user_count_transactions_7d\",\n",
    "    entities=[user_entity],\n",
    "    ttl=timedelta(weeks=1),\n",
    "    source=BigQuerySource(\n",
    "        table=f\"tokyo-country-452614-f7.credit_card_dump.user_count_transactions_7d\",\n",
    "        timestamp_field=\"feature_timestamp\"))\n",
    "\n",
    "#Add two feature views based on existing tables in bigquery\n",
    "\n",
    "user_account_fv = FeatureView(\n",
    "    name=\"user_account_features\",\n",
    "    entities=[user_entity],\n",
    "    ttl=timedelta(weeks=52),\n",
    "    source=BigQuerySource(\n",
    "        table=f\"feast-oss.fraud_tutorial.user_account_features\",\n",
    "        timestamp_field=\"feature_timestamp\"))\n",
    "\n",
    "user_has_fraudulent_transactions_fv = FeatureView(\n",
    "    name = \"user_has_fraudulent_transactions\",\n",
    "    entities=[user_entity],\n",
    "    ttl=timedelta(weeks=52),\n",
    "    source=BigQuerySource(\n",
    "        table=f\"feast-oss.fraud_tutorial.user_has_fraudulent_transactions\",\n",
    "        timestamp_field=\"feature_timestamp\"))"
   ]
  },
  {
   "cell_type": "code",
   "execution_count": null,
   "id": "5122f041-ccf1-42f2-981c-cbcb2a7a3b57",
   "metadata": {
    "tags": []
   },
   "outputs": [],
   "source": [
    "!rm example_repo.py"
   ]
  },
  {
   "cell_type": "code",
   "execution_count": 46,
   "id": "697fd839-429f-4ded-a3c7-4135714ca881",
   "metadata": {
    "tags": []
   },
   "outputs": [],
   "source": [
    "rm -rf .ipynb_checkpoints"
   ]
  },
  {
   "cell_type": "code",
   "execution_count": null,
   "id": "d6959e18-5782-432e-8e5b-ed7753253e83",
   "metadata": {
    "tags": []
   },
   "outputs": [],
   "source": [
    "!feast apply"
   ]
  },
  {
   "cell_type": "code",
   "execution_count": null,
   "id": "b53f7ceb-d19f-4a73-ba20-a83ed704b11f",
   "metadata": {
    "tags": []
   },
   "outputs": [],
   "source": [
    "from feast import FeatureStore\n",
    "\n",
    "store = FeatureStore(repo_path=\".\")\n",
    "feature_views = store.list_feature_views()\n",
    "\n",
    "for fv in feature_views:\n",
    "    print(f\"- Name: {fv.name}\")\n",
    "    print(f\"  Entities: {fv.entities}\")\n",
    "    print(f\"  TTL: {fv.ttl}\")\n",
    "    print(f\"  Source: {fv.batch_source.table}\")\n",
    "    print(\"  Schema:\")\n",
    "    \n",
    "    for field in fv.schema:\n",
    "        print(f\"    - {field.name}: {field.dtype}\")\n",
    "    print()\n"
   ]
  },
  {
   "cell_type": "code",
   "execution_count": null,
   "id": "41ed867a-41ae-444b-98f4-f75127113163",
   "metadata": {
    "tags": []
   },
   "outputs": [],
   "source": [
    "from feast import FeatureStore\n",
    "\n",
    "store = FeatureStore(repo_path=\".\")\n",
    "entities = store.list_entities()\n",
    "feature_views = store.list_feature_views()\n",
    "\n",
    "for entity in entities:\n",
    "    print(f\"Entity: {entity.name}\")\n",
    "    print(f\"  Join Key: {entity.join_key}\")\n",
    "    print(f\"  Used in FeatureViews:\")\n",
    "\n",
    "    for fv in feature_views:\n",
    "        if entity.name in fv.entities:\n",
    "            print(f\"    - FeatureView: {fv.name}\")\n",
    "            for feature in fv.features:\n",
    "                print(f\"        • {feature.name} ({feature.dtype})\")\n"
   ]
  },
  {
   "cell_type": "code",
   "execution_count": null,
   "id": "80419fbc-04bb-4681-a39b-1e26a91bd306",
   "metadata": {
    "tags": []
   },
   "outputs": [],
   "source": [
    "from datetime import datetime,timedelta\n",
    "from feast import FeatureStore\n",
    "\n",
    "store = FeatureStore(repo_path=\".\")\n",
    "now = datetime.now()\n",
    "two_days_ago = datetime.now() - timedelta(days=2)\n",
    "\n",
    "training_data = store.get_historical_features(\n",
    "    entity_df=f\"\"\"\n",
    "    select \n",
    "        src_account as user_id,\n",
    "        timestamp AS event_timestamp,\n",
    "        is_fraud\n",
    "    from\n",
    "        feast-oss.fraud_tutorial.transactions\n",
    "    where\n",
    "        timestamp between timestamp('{two_days_ago.isoformat()}') \n",
    "        and timestamp('{now.isoformat()}')\"\"\",\n",
    "    features=[\n",
    "        \"user_count_transactions_7d:transaction_count_7d\",\n",
    "        \"user_account_features:credit_score\",\n",
    "        \"user_account_features:account_age_days\",\n",
    "        \"user_account_features:user_has_2fa_installed\",\n",
    "        \"user_has_fraudulent_transactions:user_has_fraudulent_transactions_7d\"\n",
    "    ],\n",
    "    full_feature_names=True\n",
    ").to_df()\n",
    "\n",
    "training_data.head()"
   ]
  },
  {
   "cell_type": "markdown",
   "id": "e3ee73e6-7156-44e9-ae87-cbe95a20ad72",
   "metadata": {},
   "source": [
    "Model Training"
   ]
  },
  {
   "cell_type": "code",
   "execution_count": null,
   "id": "6384b6ef-ee1a-49db-ba36-165d5e225ba5",
   "metadata": {},
   "outputs": [],
   "source": [
    "!pip install scikit-learn xgboost"
   ]
  },
  {
   "cell_type": "code",
   "execution_count": null,
   "id": "d12982f2-4daa-4c80-a5d6-4040c8105f23",
   "metadata": {
    "tags": []
   },
   "outputs": [],
   "source": [
    "# Import necessary libraries\n",
    "import pandas as pd\n",
    "from sklearn.model_selection import train_test_split\n",
    "from sklearn.linear_model import LogisticRegression\n",
    "from sklearn.ensemble import RandomForestClassifier\n",
    "#from xgboost import XGBClassifier\n",
    "from sklearn.metrics import accuracy_score, precision_score, recall_score, f1_score, roc_auc_score\n",
    "\n",
    "training_data.dropna(inplace=True)\n",
    "\n",
    "# Define features (X) and target (y)\n",
    "X = training_data[[\n",
    "    \"user_count_transactions_7d__transaction_count_7d\", \n",
    "    \"user_account_features__credit_score\",\n",
    "    \"user_account_features__account_age_days\",\n",
    "    \"user_account_features__user_has_2fa_installed\",\n",
    "    \"user_has_fraudulent_transactions__user_has_fraudulent_transactions_7d\"\n",
    "]]\n",
    "y = training_data[\"is_fraud\"]\n",
    "\n",
    "# Split the data into training and test sets (80-20 split)\n",
    "X_train, X_test, y_train, y_test = train_test_split(X, y, test_size=0.2, random_state=42)\n",
    "\n",
    "# Define models\n",
    "log_reg_model = LogisticRegression()\n",
    "rf_model = RandomForestClassifier(n_estimators=100,class_weight='balanced', random_state=42)\n",
    "#xgb_model = XGBClassifier(use_label_encoder=False, eval_metric='logloss', random_state=42)\n",
    "\n",
    "# Train models\n",
    "log_reg_model.fit(X_train, y_train)\n",
    "rf_model.fit(X_train, y_train)\n",
    "\n",
    "#xgb_model.fit(X_train, y_train)\n"
   ]
  },
  {
   "cell_type": "code",
   "execution_count": 14,
   "id": "1157468d-8cc0-4908-930a-491d323b4997",
   "metadata": {
    "tags": []
   },
   "outputs": [],
   "source": [
    "# Make predictions\n",
    "log_reg_pred = log_reg_model.predict(X_test)\n",
    "rf_pred = rf_model.predict(X_test)\n",
    "#xgb_pred = xgb_model.predict(X_test)"
   ]
  },
  {
   "cell_type": "code",
   "execution_count": null,
   "id": "2a56dbad-8443-48b6-979e-6ffa733a6a83",
   "metadata": {
    "tags": []
   },
   "outputs": [],
   "source": [
    "# Evaluate models using accuracy, precision, recall, F1 score, and ROC AUC\n",
    "def evaluate_model(predictions, model_name):\n",
    "    accuracy = accuracy_score(y_test, predictions)\n",
    "    precision = precision_score(y_test, predictions)\n",
    "    recall = recall_score(y_test, predictions)\n",
    "    f1 = f1_score(y_test, predictions)\n",
    "    roc_auc = roc_auc_score(y_test, predictions)\n",
    "    \n",
    "    print(f\"{model_name} Performance:\")\n",
    "    print(f\"  Accuracy: {accuracy:.4f}\")\n",
    "    print(f\"  Precision: {precision:.4f}\")\n",
    "    print(f\"  Recall: {recall:.4f}\")\n",
    "    print(f\"  F1 Score: {f1:.4f}\")\n",
    "    print(f\"  ROC AUC: {roc_auc:.4f}\")\n",
    "    print(\"-\" * 50)\n",
    "\n",
    "# Evaluate each model\n",
    "evaluate_model(log_reg_pred, \"Logistic Regression\")\n",
    "evaluate_model(rf_pred, \"Random Forest\")\n",
    "#evaluate_model(xgb_pred, \"XGBoost\")\n"
   ]
  },
  {
   "cell_type": "code",
   "execution_count": 16,
   "id": "c53f324d-6d13-4ba4-944b-cab7e67b2ba3",
   "metadata": {
    "tags": []
   },
   "outputs": [],
   "source": [
    "from sklearn import metrics\n",
    "from sklearn.metrics import confusion_matrix, ConfusionMatrixDisplay\n",
    "import matplotlib.pyplot as plt"
   ]
  },
  {
   "cell_type": "code",
   "execution_count": null,
   "id": "3c0677cf-e8b3-4105-a33e-33afe68b9222",
   "metadata": {
    "tags": []
   },
   "outputs": [],
   "source": [
    "# Print matrix\n",
    "cm_RF = metrics.confusion_matrix(y_test, rf_pred)\n",
    "print(\"Confusion Matrix:\")\n",
    "print(cm_RF)\n",
    "\n",
    "# Optional: visualize it\n",
    "disp = ConfusionMatrixDisplay(confusion_matrix=cm_RF)\n",
    "disp.plot(cmap=plt.cm.Blues)\n",
    "plt.title(\"Random Forest Confusion Matrix\")\n",
    "plt.show()"
   ]
  },
  {
   "cell_type": "markdown",
   "id": "c8712811-4c7a-441f-b1c2-333960c26947",
   "metadata": {},
   "source": [
    "WE have high recall here which is good for fraud detection as we do not want to miss any fradulent ransaction but if any non fraud transaction marked as fraudulet then system can review and proceed further!"
   ]
  },
  {
   "cell_type": "code",
   "execution_count": null,
   "id": "df99ae7d-ebe9-4c27-8002-3d8f4a17fab5",
   "metadata": {
    "tags": []
   },
   "outputs": [],
   "source": [
    "import joblib\n",
    "\n",
    "# Save the model to a local file\n",
    "joblib.dump(rf_model, \"model.joblib\")\n"
   ]
  },
  {
   "cell_type": "code",
   "execution_count": 21,
   "id": "a84b7a7e-db07-4def-821b-f34c2dc69806",
   "metadata": {
    "tags": []
   },
   "outputs": [],
   "source": [
    "loaded_model = joblib.load('model.joblib')"
   ]
  },
  {
   "cell_type": "code",
   "execution_count": null,
   "id": "df055865-ca18-4a2f-b8f7-081147162079",
   "metadata": {
    "tags": []
   },
   "outputs": [],
   "source": [
    "y_pred_loaded = loaded_model.predict(X_test)\n",
    "accuracy_loaded = accuracy_score(y_test, y_pred_loaded)\n",
    "print(f\"Loaded Model Accuracy: {accuracy_loaded:.4f}\")"
   ]
  },
  {
   "cell_type": "code",
   "execution_count": null,
   "id": "a3851311-07f0-43fc-887b-a81d668d2443",
   "metadata": {
    "tags": []
   },
   "outputs": [],
   "source": [
    "import sklearn\n",
    "import joblib\n",
    "\n",
    "# Print version of scikit-learn and joblib\n",
    "print(f\"scikit-learn version: {sklearn.__version__}\")\n",
    "print(f\"joblib version: {joblib.__version__}\")\n"
   ]
  },
  {
   "cell_type": "code",
   "execution_count": null,
   "id": "8524b6d1-3004-48a0-8d1b-a2b9d9bd4a74",
   "metadata": {
    "tags": []
   },
   "outputs": [],
   "source": [
    "# Upload to GCS\n",
    "!gsutil cp model.joblib gs://$BUCKET_NAME/model_dir/model.joblib\n"
   ]
  },
  {
   "cell_type": "code",
   "execution_count": null,
   "id": "2d65ea56-efdf-4e31-b443-7df23d113053",
   "metadata": {
    "tags": []
   },
   "outputs": [],
   "source": [
    "from google.cloud import storage\n",
    "import joblib\n",
    "\n",
    "# Initialize the GCS client\n",
    "client = storage.Client()\n",
    "\n",
    "# Specify the bucket and model file path\n",
    "bucket_name = 'movielensestorage'\n",
    "model_blob_name = 'model_dir/model.joblib'\n",
    "\n",
    "# Reference the GCS bucket and blob\n",
    "bucket = client.get_bucket(bucket_name)\n",
    "blob = bucket.blob(model_blob_name)\n",
    "\n",
    "# Download the model file to local disk\n",
    "local_model_path = '/tmp/model.joblib'\n",
    "blob.download_to_filename(local_model_path)\n",
    "\n",
    "print(f'Model downloaded to {local_model_path}')\n"
   ]
  },
  {
   "cell_type": "code",
   "execution_count": null,
   "id": "d1a4340f-2792-43d4-9eb1-22c5da892f07",
   "metadata": {
    "tags": []
   },
   "outputs": [],
   "source": [
    "# Load the model using joblib\n",
    "model2 = joblib.load('/tmp/model.joblib')\n",
    "print('Model loaded successfully.')\n",
    "\n",
    "# You can now use the model to make predictions\n"
   ]
  },
  {
   "cell_type": "code",
   "execution_count": null,
   "id": "36fca17a-f828-402e-a4d4-9ad9da774a06",
   "metadata": {
    "tags": []
   },
   "outputs": [],
   "source": [
    "import pandas as pd\n",
    "\n",
    "# Prepare your input data (make sure the features match what the model expects)\n",
    "input_data = pd.DataFrame({\n",
    "    'user_count_transactions_7d__transaction_count_7d': [10],\n",
    "    'user_account_features__credit_score': [700],\n",
    "    'user_account_features__account_age_days': [365],\n",
    "    'user_account_features__user_has_2fa_installed': [1],\n",
    "    'user_has_fraudulent_transactions__user_has_fraudulent_transactions_7d': [0]\n",
    "})\n",
    "\n",
    "# Make predictions\n",
    "predictions = model2.predict(input_data)\n",
    "print(f'Predictions: {predictions}')\n"
   ]
  },
  {
   "cell_type": "code",
   "execution_count": 28,
   "id": "f8793b2c-ff7e-462b-a32f-af80ed78edf1",
   "metadata": {
    "tags": []
   },
   "outputs": [],
   "source": [
    "from google.cloud import aiplatform\n",
    "\n",
    "aiplatform.init(\n",
    "    project=PROJECT_ID,\n",
    "    location=\"us-central1\",  \n",
    "    staging_bucket=\"gs://movielensestorage\",\n",
    ")\n"
   ]
  },
  {
   "cell_type": "code",
   "execution_count": null,
   "id": "bcffe9eb-01d0-4e34-9374-fe2078e4d476",
   "metadata": {
    "tags": []
   },
   "outputs": [],
   "source": [
    "model = aiplatform.Model.upload(\n",
    "    display_name=\"random-forest-fraud-detection-model7\",\n",
    "    artifact_uri=\"gs://movielensestorage/model_dir/\", \n",
    "    serving_container_image_uri=\"us-docker.pkg.dev/vertex-ai/prediction/sklearn-cpu.1-5:latest\",\n",
    "    serving_container_environment_variables={\n",
    "        \"MODEL_FILENAME\": \"model.joblib\"\n",
    "    }\n",
    ")"
   ]
  },
  {
   "cell_type": "code",
   "execution_count": null,
   "id": "e927073d-dc42-425e-98a1-17e6daf4c2b8",
   "metadata": {
    "tags": []
   },
   "outputs": [],
   "source": [
    "endpoint = model.deploy(\n",
    "    deployed_model_display_name=\"rf-fraud-detector7\",\n",
    "    machine_type=\"n1-standard-2\",\n",
    ")\n"
   ]
  },
  {
   "cell_type": "code",
   "execution_count": null,
   "id": "d6d47a59-f295-4eeb-91ac-7338ec02543a",
   "metadata": {
    "tags": []
   },
   "outputs": [],
   "source": [
    "!feast materialize-incremental $(date -u +\"%Y-%m-%dT%H:%M:%S\")"
   ]
  },
  {
   "cell_type": "code",
   "execution_count": null,
   "id": "81dc7192-8060-45e7-a30c-a7ff3d56029a",
   "metadata": {
    "tags": []
   },
   "outputs": [],
   "source": [
    "from google.cloud import aiplatform\n",
    "from google.cloud.aiplatform.gapic.schema import predict\n",
    "\n",
    "def predict(entity_rows):\n",
    "    # Fetch feature data from Feast\n",
    "    feature_vector = store.get_online_features(\n",
    "        features=[\n",
    "            \"user_count_transactions_7d:transaction_count_7d\",\n",
    "            \"user_account_features:credit_score\",\n",
    "            \"user_account_features:account_age_days\",\n",
    "            \"user_account_features:user_has_2fa_installed\",\n",
    "            \"user_has_fraudulent_transactions:user_has_fraudulent_transactions_7d\"\n",
    "        ],\n",
    "        entity_rows=entity_rows\n",
    "    ).to_dict()\n",
    "\n",
    "    # Delete entity keys\n",
    "    del feature_vector[\"user_id\"]\n",
    "\n",
    "    # Flatten the response from Feast\n",
    "    instances = [\n",
    "        [feature_values[i] for feature_values in feature_vector.values()]\n",
    "        for i in range(len(entity_rows))\n",
    "    ]\n",
    "    \n",
    "    ENDPOINT_ID = \"8312823576939986944\"\n",
    "    # Initialize Vertex AI SDK with the project and endpoint\n",
    "    aiplatform.init(project=PROJECT_ID, location=\"us-central1\")  # You can set location if necessary\n",
    "\n",
    "    # Define the endpoint where the model is deployed\n",
    "    endpoint = aiplatform.Endpoint(endpoint_name=\"projects/738666983022/locations/us-central1/endpoints/8312823576939986944\")\n",
    "\n",
    "    # Predict online using the deployed model\n",
    "    prediction = endpoint.predict(instances=instances)\n",
    "\n",
    "    # Return the prediction response\n",
    "    return prediction.predictions\n",
    "\n",
    "\n",
    "# Test the prediction function with an entity row\n",
    "response = predict([{\"user_id\": \"v5zlw0\"}])\n",
    "print(response)\n"
   ]
  },
  {
   "cell_type": "code",
   "execution_count": null,
   "id": "e342d054-d205-4079-a5ec-f7518691edf6",
   "metadata": {},
   "outputs": [],
   "source": []
  }
 ],
 "metadata": {
  "environment": {
   "kernel": "conda-base-py",
   "name": "workbench-notebooks.m128",
   "type": "gcloud",
   "uri": "us-docker.pkg.dev/deeplearning-platform-release/gcr.io/workbench-notebooks:m128"
  },
  "kernelspec": {
   "display_name": "Python 3 (ipykernel) (Local)",
   "language": "python",
   "name": "conda-base-py"
  },
  "language_info": {
   "codemirror_mode": {
    "name": "ipython",
    "version": 3
   },
   "file_extension": ".py",
   "mimetype": "text/x-python",
   "name": "python",
   "nbconvert_exporter": "python",
   "pygments_lexer": "ipython3",
   "version": "3.10.16"
  }
 },
 "nbformat": 4,
 "nbformat_minor": 5
}
