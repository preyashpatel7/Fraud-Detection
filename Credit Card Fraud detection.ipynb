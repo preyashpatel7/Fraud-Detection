{
 "cells": [
  {
   "cell_type": "markdown",
   "id": "c6816534-223d-4d19-9fa8-4f8f373bfe03",
   "metadata": {},
   "source": [
    "1. Raw data will be stored in BigQuery\n",
    "2. Features will be calculated using Bigquery SQL\n",
    "3. Offline Feature Store will be BigQuery\n",
    "4. Online store will be DataStore\n",
    "5. Model FrameWork TF, SKLearn\n",
    "6. Model hosted on GCP AI Platform"
   ]
  },
  {
   "cell_type": "code",
   "execution_count": 1,
   "id": "6f2e1816-bcf1-4b0e-b74c-e99d9dcc44f1",
   "metadata": {
    "tags": []
   },
   "outputs": [
    {
     "name": "stdout",
     "output_type": "stream",
     "text": [
      "\u001b[31mERROR: pip's dependency resolver does not currently take into account all the packages that are installed. This behaviour is the source of the following dependency conflicts.\n",
      "apache-beam 2.63.0 requires cloudpickle~=2.2.1, but you have cloudpickle 3.1.1 which is incompatible.\n",
      "gcsfs 2025.2.0 requires fsspec==2025.2.0, but you have fsspec 2024.9.0 which is incompatible.\n",
      "tf-agents 0.19.0 requires typing-extensions==4.5.0, but you have typing-extensions 4.13.2 which is incompatible.\u001b[0m\u001b[31m\n",
      "\u001b[0m\n",
      "\u001b[1m[\u001b[0m\u001b[34;49mnotice\u001b[0m\u001b[1;39;49m]\u001b[0m\u001b[39;49m A new release of pip is available: \u001b[0m\u001b[31;49m25.0\u001b[0m\u001b[39;49m -> \u001b[0m\u001b[32;49m25.0.1\u001b[0m\n",
      "\u001b[1m[\u001b[0m\u001b[34;49mnotice\u001b[0m\u001b[1;39;49m]\u001b[0m\u001b[39;49m To update, run: \u001b[0m\u001b[32;49mpip install --upgrade pip\u001b[0m\n"
     ]
    }
   ],
   "source": [
    "!pip install -q feast['gcp']"
   ]
  },
  {
   "cell_type": "code",
   "execution_count": 87,
   "id": "dc64a047-93da-4341-8879-0b145722491f",
   "metadata": {
    "tags": []
   },
   "outputs": [
    {
     "name": "stdout",
     "output_type": "stream",
     "text": [
      "\u001b[31mERROR: pip's dependency resolver does not currently take into account all the packages that are installed. This behaviour is the source of the following dependency conflicts.\n",
      "apache-beam 2.63.0 requires cloudpickle~=2.2.1, but you have cloudpickle 3.1.1 which is incompatible.\n",
      "apache-beam 2.63.0 requires redis<6,>=5.0.0, but you have redis 4.6.0 which is incompatible.\u001b[0m\u001b[31m\n",
      "\u001b[0m\n",
      "\u001b[1m[\u001b[0m\u001b[34;49mnotice\u001b[0m\u001b[1;39;49m]\u001b[0m\u001b[39;49m A new release of pip is available: \u001b[0m\u001b[31;49m25.0\u001b[0m\u001b[39;49m -> \u001b[0m\u001b[32;49m25.0.1\u001b[0m\n",
      "\u001b[1m[\u001b[0m\u001b[34;49mnotice\u001b[0m\u001b[1;39;49m]\u001b[0m\u001b[39;49m To update, run: \u001b[0m\u001b[32;49mpip install --upgrade pip\u001b[0m\n"
     ]
    }
   ],
   "source": [
    "!pip install -q feast[redis]\n"
   ]
  },
  {
   "cell_type": "code",
   "execution_count": 5,
   "id": "c370d7f8-6a1e-4aa8-94d5-c8b36ec851ea",
   "metadata": {
    "tags": []
   },
   "outputs": [
    {
     "name": "stdout",
     "output_type": "stream",
     "text": [
      "Feast SDK Version: \"0.48.1\"\n"
     ]
    }
   ],
   "source": [
    "!feast version"
   ]
  },
  {
   "cell_type": "markdown",
   "id": "9c45708e-d873-48fa-ab20-846af2334c35",
   "metadata": {},
   "source": [
    "Project Configuration"
   ]
  },
  {
   "cell_type": "code",
   "execution_count": 6,
   "id": "b6ece7d9-aed0-4ab0-b604-40dea57f5dcb",
   "metadata": {
    "tags": []
   },
   "outputs": [
    {
     "name": "stdout",
     "output_type": "stream",
     "text": [
      "Updated property [core/project].\n"
     ]
    }
   ],
   "source": [
    "PROJECT_ID = \"tokyo-country-452614-f7\"\n",
    "BUCKET_NAME = \"movielensestorage\"\n",
    "BIGQUERY_DATASET_NAME = \"credit_card_dump\"\n",
    "AI_PLATFORM_MODEL_NAME = \"Fraud-_detection_model\"\n",
    "\n",
    "!gcloud config set project \"$PROJECT_ID\""
   ]
  },
  {
   "cell_type": "code",
   "execution_count": 7,
   "id": "d3140971-5224-4921-ba89-ee4f61b71cc1",
   "metadata": {
    "tags": []
   },
   "outputs": [
    {
     "name": "stdout",
     "output_type": "stream",
     "text": [
      "project_id = tokyo-country-452614-f7\n"
     ]
    }
   ],
   "source": [
    "!echo project_id = $PROJECT_ID "
   ]
  },
  {
   "cell_type": "markdown",
   "id": "999bc9e0-0418-4fd7-bab1-d7ec0722f2b1",
   "metadata": {},
   "source": [
    "Create Bucket if not already created"
   ]
  },
  {
   "cell_type": "code",
   "execution_count": null,
   "id": "d443190c-d4fe-4d23-8f8a-55b19271425b",
   "metadata": {},
   "outputs": [],
   "source": [
    "!gsutil mb gs://$BUCKET_NAME"
   ]
  },
  {
   "cell_type": "markdown",
   "id": "f2857da5-aef0-46ef-add8-6f6c8c44c315",
   "metadata": {},
   "source": [
    "Create BigQuery Dataset IF NOT ALREADY EXISTS"
   ]
  },
  {
   "cell_type": "code",
   "execution_count": null,
   "id": "8bc44570-54b3-4e45-8b7c-7ea31006513c",
   "metadata": {},
   "outputs": [],
   "source": [
    "!bq mk $BIGQUERY_DATASET_NAME"
   ]
  },
  {
   "cell_type": "markdown",
   "id": "722e8377-fa08-4ddb-862d-9d1dbb763a2b",
   "metadata": {},
   "source": [
    "Initialize Feature Repository"
   ]
  },
  {
   "cell_type": "code",
   "execution_count": 5,
   "id": "48f2d12b-0f40-4744-a093-ff07a04bf43f",
   "metadata": {
    "tags": []
   },
   "outputs": [
    {
     "name": "stdout",
     "output_type": "stream",
     "text": [
      "\n",
      "Creating a new Feast repository in \u001b[1m\u001b[32m/home/jupyter/Decision Forests/fraud_detection\u001b[0m.\n",
      "\n"
     ]
    }
   ],
   "source": [
    "!feast init fraud_detection -t gcp"
   ]
  },
  {
   "cell_type": "markdown",
   "id": "675ce9c5-6920-48bd-9213-d0618fe60738",
   "metadata": {},
   "source": [
    "Configure Feature Store to run on BQ for batch processing and Datastore for Online predictions"
   ]
  },
  {
   "cell_type": "code",
   "execution_count": 9,
   "id": "84fb748a-c0b9-4e32-a076-c5d00c6b86e8",
   "metadata": {
    "tags": []
   },
   "outputs": [
    {
     "name": "stdout",
     "output_type": "stream",
     "text": [
      "/home/jupyter/Decision Forests/fraud_detection\n"
     ]
    },
    {
     "name": "stderr",
     "output_type": "stream",
     "text": [
      "/opt/conda/lib/python3.10/site-packages/IPython/core/magics/osm.py:417: UserWarning: using dhist requires you to install the `pickleshare` library.\n",
      "  self.shell.db['dhist'] = compress_dhist(dhist)[-100:]\n"
     ]
    }
   ],
   "source": [
    "%cd fraud_detection"
   ]
  },
  {
   "cell_type": "code",
   "execution_count": 78,
   "id": "df549216-db42-478a-8734-2718212a48c9",
   "metadata": {
    "tags": []
   },
   "outputs": [],
   "source": [
    "feature_store = \\\n",
    "f\"\"\"project: fraud_detection\n",
    "registry: gs://{BUCKET_NAME}/registry.db\n",
    "provider: gcp\n",
    "offline_store:\n",
    "  type: bigquery\n",
    "  dataset: credit_card_dump\n",
    "  project_id: tokyo-country-452614-f7\n",
    "online_store:\n",
    "  type: redis\n",
    "  redis_type: redis\n",
    "  connection_string: 10.56.0.6:6379\"\"\"\n",
    "\n",
    "with open('feature_store.yaml',\"w\") as writer:\n",
    "    writer.write(feature_store)"
   ]
  },
  {
   "cell_type": "code",
   "execution_count": 10,
   "id": "265a525b-6250-4f47-bc05-05d8c18225f2",
   "metadata": {
    "tags": []
   },
   "outputs": [
    {
     "name": "stdout",
     "output_type": "stream",
     "text": [
      "/home/jupyter/Decision Forests/fraud_detection/feature_repo\n"
     ]
    }
   ],
   "source": [
    "%cd feature_repo"
   ]
  },
  {
   "cell_type": "code",
   "execution_count": 16,
   "id": "42a96b09-0945-4812-afa0-d9afc6c9af89",
   "metadata": {
    "tags": []
   },
   "outputs": [
    {
     "data": {
      "application/vnd.jupyter.widget-view+json": {
       "model_id": "6633209b0d184c00a806dbb250eb7dcf",
       "version_major": 2,
       "version_minor": 0
      },
      "text/plain": [
       "Query is running:   0%|          |"
      ]
     },
     "metadata": {},
     "output_type": "display_data"
    },
    {
     "data": {
      "application/vnd.jupyter.widget-view+json": {
       "model_id": "2882951485c94924aea89d4dad347250",
       "version_major": 2,
       "version_minor": 0
      },
      "text/plain": [
       "Downloading:   0%|          |"
      ]
     },
     "metadata": {},
     "output_type": "display_data"
    },
    {
     "data": {
      "text/html": [
       "<div>\n",
       "<style scoped>\n",
       "    .dataframe tbody tr th:only-of-type {\n",
       "        vertical-align: middle;\n",
       "    }\n",
       "\n",
       "    .dataframe tbody tr th {\n",
       "        vertical-align: top;\n",
       "    }\n",
       "\n",
       "    .dataframe thead th {\n",
       "        text-align: right;\n",
       "    }\n",
       "</style>\n",
       "<table border=\"1\" class=\"dataframe\">\n",
       "  <thead>\n",
       "    <tr style=\"text-align: right;\">\n",
       "      <th></th>\n",
       "      <th>src_account</th>\n",
       "      <th>amount</th>\n",
       "      <th>dest_account</th>\n",
       "      <th>is_fraud</th>\n",
       "      <th>timestamp</th>\n",
       "    </tr>\n",
       "  </thead>\n",
       "  <tbody>\n",
       "    <tr>\n",
       "      <th>0</th>\n",
       "      <td>0001mg</td>\n",
       "      <td>3012.44</td>\n",
       "      <td>ydnwlr</td>\n",
       "      <td>0</td>\n",
       "      <td>2025-04-12 15:39:35.077144+00:00</td>\n",
       "    </tr>\n",
       "    <tr>\n",
       "      <th>1</th>\n",
       "      <td>0001mg</td>\n",
       "      <td>4431.82</td>\n",
       "      <td>oijv7z</td>\n",
       "      <td>0</td>\n",
       "      <td>2025-04-09 14:34:31.538327+00:00</td>\n",
       "    </tr>\n",
       "    <tr>\n",
       "      <th>2</th>\n",
       "      <td>0001mg</td>\n",
       "      <td>3037.60</td>\n",
       "      <td>a6mrvu</td>\n",
       "      <td>0</td>\n",
       "      <td>2025-04-07 23:38:31.876572+00:00</td>\n",
       "    </tr>\n",
       "    <tr>\n",
       "      <th>3</th>\n",
       "      <td>0001mg</td>\n",
       "      <td>6322.63</td>\n",
       "      <td>bmihen</td>\n",
       "      <td>0</td>\n",
       "      <td>2025-04-07 16:33:45.367327+00:00</td>\n",
       "    </tr>\n",
       "    <tr>\n",
       "      <th>4</th>\n",
       "      <td>0001mg</td>\n",
       "      <td>9981.82</td>\n",
       "      <td>tk53lu</td>\n",
       "      <td>0</td>\n",
       "      <td>2025-04-05 02:19:04.142904+00:00</td>\n",
       "    </tr>\n",
       "    <tr>\n",
       "      <th>...</th>\n",
       "      <td>...</td>\n",
       "      <td>...</td>\n",
       "      <td>...</td>\n",
       "      <td>...</td>\n",
       "      <td>...</td>\n",
       "    </tr>\n",
       "    <tr>\n",
       "      <th>995</th>\n",
       "      <td>0e8q8g</td>\n",
       "      <td>8430.40</td>\n",
       "      <td>zkalwn</td>\n",
       "      <td>0</td>\n",
       "      <td>2025-03-30 10:15:49.515479+00:00</td>\n",
       "    </tr>\n",
       "    <tr>\n",
       "      <th>996</th>\n",
       "      <td>0efs3l</td>\n",
       "      <td>2089.27</td>\n",
       "      <td>1egwlq</td>\n",
       "      <td>0</td>\n",
       "      <td>2025-04-12 10:57:30.315730+00:00</td>\n",
       "    </tr>\n",
       "    <tr>\n",
       "      <th>997</th>\n",
       "      <td>0efs3l</td>\n",
       "      <td>8805.19</td>\n",
       "      <td>xxuqat</td>\n",
       "      <td>0</td>\n",
       "      <td>2025-04-12 07:42:50.524427+00:00</td>\n",
       "    </tr>\n",
       "    <tr>\n",
       "      <th>998</th>\n",
       "      <td>0efs3l</td>\n",
       "      <td>1590.20</td>\n",
       "      <td>brg2wu</td>\n",
       "      <td>0</td>\n",
       "      <td>2025-04-11 11:24:17.608325+00:00</td>\n",
       "    </tr>\n",
       "    <tr>\n",
       "      <th>999</th>\n",
       "      <td>0efs3l</td>\n",
       "      <td>6475.87</td>\n",
       "      <td>7poh6p</td>\n",
       "      <td>0</td>\n",
       "      <td>2025-04-11 10:14:53.587181+00:00</td>\n",
       "    </tr>\n",
       "  </tbody>\n",
       "</table>\n",
       "<p>1000 rows × 5 columns</p>\n",
       "</div>"
      ],
      "text/plain": [
       "    src_account   amount dest_account  is_fraud  \\\n",
       "0        0001mg  3012.44       ydnwlr         0   \n",
       "1        0001mg  4431.82       oijv7z         0   \n",
       "2        0001mg  3037.60       a6mrvu         0   \n",
       "3        0001mg  6322.63       bmihen         0   \n",
       "4        0001mg  9981.82       tk53lu         0   \n",
       "..          ...      ...          ...       ...   \n",
       "995      0e8q8g  8430.40       zkalwn         0   \n",
       "996      0efs3l  2089.27       1egwlq         0   \n",
       "997      0efs3l  8805.19       xxuqat         0   \n",
       "998      0efs3l  1590.20       brg2wu         0   \n",
       "999      0efs3l  6475.87       7poh6p         0   \n",
       "\n",
       "                           timestamp  \n",
       "0   2025-04-12 15:39:35.077144+00:00  \n",
       "1   2025-04-09 14:34:31.538327+00:00  \n",
       "2   2025-04-07 23:38:31.876572+00:00  \n",
       "3   2025-04-07 16:33:45.367327+00:00  \n",
       "4   2025-04-05 02:19:04.142904+00:00  \n",
       "..                               ...  \n",
       "995 2025-03-30 10:15:49.515479+00:00  \n",
       "996 2025-04-12 10:57:30.315730+00:00  \n",
       "997 2025-04-12 07:42:50.524427+00:00  \n",
       "998 2025-04-11 11:24:17.608325+00:00  \n",
       "999 2025-04-11 10:14:53.587181+00:00  \n",
       "\n",
       "[1000 rows x 5 columns]"
      ]
     },
     "execution_count": 16,
     "metadata": {},
     "output_type": "execute_result"
    }
   ],
   "source": [
    "%%bigquery\n",
    "\n",
    "select * from feast-oss.fraud_tutorial.transactions limit 1000"
   ]
  },
  {
   "cell_type": "markdown",
   "id": "6846ebcc-46a8-4dd2-9fa8-54f07486489f",
   "metadata": {},
   "source": [
    "Create frature table using BQSQL\n",
    "\n",
    "This function will group by user_id for particular day and count number of transactions made on that day. It will run for Past 7 days transactions for each user. "
   ]
  },
  {
   "cell_type": "code",
   "execution_count": 17,
   "id": "a123c23c-2661-4d03-8be5-3f8cebf72b8c",
   "metadata": {
    "tags": []
   },
   "outputs": [
    {
     "name": "stdout",
     "output_type": "stream",
     "text": [
      "Generated features as of 2025-04-06T20:20:53.598306\n",
      "Generated features as of 2025-04-07T20:20:53.598306\n",
      "Generated features as of 2025-04-08T20:20:53.598306\n",
      "Generated features as of 2025-04-09T20:20:53.598306\n",
      "Generated features as of 2025-04-10T20:20:53.598306\n",
      "Generated features as of 2025-04-11T20:20:53.598306\n",
      "Generated features as of 2025-04-12T20:20:53.598306\n",
      "Generated features as of 2025-04-13T20:20:53.598306\n"
     ]
    }
   ],
   "source": [
    "from datetime import datetime,timedelta\n",
    "from google.cloud import bigquery\n",
    "import time\n",
    "\n",
    "def generate_user_count_features(aggregation_end_date):\n",
    "    table_id = f\"{PROJECT_ID}.{BIGQUERY_DATASET_NAME}.user_count_transactions_7d\"\n",
    "    \n",
    "    client = bigquery.Client()\n",
    "    job_config = bigquery.QueryJobConfig(destination=table_id,write_disposition='WRITE_APPEND')\n",
    "    \n",
    "    aggregation_start_date = datetime.now() - timedelta(days=7) #April 13 - 7 = April 6\n",
    "    \n",
    "    sql = f\"\"\"\n",
    "    SELECT\n",
    "        src_account AS user_id,\n",
    "        COUNT(*) AS transaction_count_7d,\n",
    "        timestamp'{aggregation_end_date.isoformat()}' AS feature_timestamp\n",
    "    FROM\n",
    "        feast-oss.fraud_tutorial.transactions\n",
    "    WHERE\n",
    "        timestamp BETWEEN TIMESTAMP('{aggregation_start_date.isoformat()}')\n",
    "        AND TIMESTAMP('{aggregation_end_date.isoformat()}')\n",
    "    GROUP BY\n",
    "        user_id\n",
    "    \"\"\"\n",
    "    \n",
    "    query_job = client.query(sql,job_config=job_config)\n",
    "    query_job.result()\n",
    "    print(f\"Generated features as of {aggregation_end_date.isoformat()}\")\n",
    "    \n",
    "    \n",
    "def backfill_features(earliest_aggregation_end_date,interval,num_iterations):\n",
    "    aggregation_end_date = earliest_aggregation_end_date  #April 06\n",
    "    for _ in range(num_iterations):\n",
    "        generate_user_count_features(aggregation_end_date=aggregation_end_date)\n",
    "        time.sleep(1)\n",
    "        aggregation_end_date+=interval\n",
    "        \n",
    "if __name__ == '__main__':\n",
    "    backfill_features(\n",
    "        earliest_aggregation_end_date=datetime.now() - timedelta(days=7),  #april 06\n",
    "        interval = timedelta(days=1),\n",
    "        num_iterations=8\n",
    "    )\n",
    "    \n",
    "    "
   ]
  },
  {
   "cell_type": "code",
   "execution_count": 5,
   "id": "c777829b-f4c0-469c-9406-2d5fc1afc858",
   "metadata": {
    "tags": []
   },
   "outputs": [
    {
     "data": {
      "application/vnd.jupyter.widget-view+json": {
       "model_id": "203a55ad4515483f817e550c8003bdd9",
       "version_major": 2,
       "version_minor": 0
      },
      "text/plain": [
       "Query is running:   0%|          |"
      ]
     },
     "metadata": {},
     "output_type": "display_data"
    },
    {
     "data": {
      "application/vnd.jupyter.widget-view+json": {
       "model_id": "f8ca545ca5a9456ea4d1d516263da39f",
       "version_major": 2,
       "version_minor": 0
      },
      "text/plain": [
       "Downloading:   0%|          |"
      ]
     },
     "metadata": {},
     "output_type": "display_data"
    },
    {
     "data": {
      "text/html": [
       "<div>\n",
       "<style scoped>\n",
       "    .dataframe tbody tr th:only-of-type {\n",
       "        vertical-align: middle;\n",
       "    }\n",
       "\n",
       "    .dataframe tbody tr th {\n",
       "        vertical-align: top;\n",
       "    }\n",
       "\n",
       "    .dataframe thead th {\n",
       "        text-align: right;\n",
       "    }\n",
       "</style>\n",
       "<table border=\"1\" class=\"dataframe\">\n",
       "  <thead>\n",
       "    <tr style=\"text-align: right;\">\n",
       "      <th></th>\n",
       "      <th>user_id</th>\n",
       "      <th>transaction_count_7d</th>\n",
       "      <th>feature_timestamp</th>\n",
       "    </tr>\n",
       "  </thead>\n",
       "  <tbody>\n",
       "    <tr>\n",
       "      <th>0</th>\n",
       "      <td>0ko40q</td>\n",
       "      <td>1</td>\n",
       "      <td>2025-04-07 20:20:53.598306+00:00</td>\n",
       "    </tr>\n",
       "    <tr>\n",
       "      <th>1</th>\n",
       "      <td>144xph</td>\n",
       "      <td>1</td>\n",
       "      <td>2025-04-07 20:20:53.598306+00:00</td>\n",
       "    </tr>\n",
       "    <tr>\n",
       "      <th>2</th>\n",
       "      <td>19cle4</td>\n",
       "      <td>1</td>\n",
       "      <td>2025-04-07 20:20:53.598306+00:00</td>\n",
       "    </tr>\n",
       "    <tr>\n",
       "      <th>3</th>\n",
       "      <td>2pv52w</td>\n",
       "      <td>1</td>\n",
       "      <td>2025-04-07 20:20:53.598306+00:00</td>\n",
       "    </tr>\n",
       "    <tr>\n",
       "      <th>4</th>\n",
       "      <td>2swz0t</td>\n",
       "      <td>1</td>\n",
       "      <td>2025-04-07 20:20:53.598306+00:00</td>\n",
       "    </tr>\n",
       "    <tr>\n",
       "      <th>...</th>\n",
       "      <td>...</td>\n",
       "      <td>...</td>\n",
       "      <td>...</td>\n",
       "    </tr>\n",
       "    <tr>\n",
       "      <th>995</th>\n",
       "      <td>b96clr</td>\n",
       "      <td>1</td>\n",
       "      <td>2025-04-07 20:20:53.598306+00:00</td>\n",
       "    </tr>\n",
       "    <tr>\n",
       "      <th>996</th>\n",
       "      <td>csx0c2</td>\n",
       "      <td>1</td>\n",
       "      <td>2025-04-07 20:20:53.598306+00:00</td>\n",
       "    </tr>\n",
       "    <tr>\n",
       "      <th>997</th>\n",
       "      <td>cvuxqg</td>\n",
       "      <td>1</td>\n",
       "      <td>2025-04-07 20:20:53.598306+00:00</td>\n",
       "    </tr>\n",
       "    <tr>\n",
       "      <th>998</th>\n",
       "      <td>d3pcpf</td>\n",
       "      <td>1</td>\n",
       "      <td>2025-04-07 20:20:53.598306+00:00</td>\n",
       "    </tr>\n",
       "    <tr>\n",
       "      <th>999</th>\n",
       "      <td>dvnhkp</td>\n",
       "      <td>1</td>\n",
       "      <td>2025-04-07 20:20:53.598306+00:00</td>\n",
       "    </tr>\n",
       "  </tbody>\n",
       "</table>\n",
       "<p>1000 rows × 3 columns</p>\n",
       "</div>"
      ],
      "text/plain": [
       "    user_id  transaction_count_7d                feature_timestamp\n",
       "0    0ko40q                     1 2025-04-07 20:20:53.598306+00:00\n",
       "1    144xph                     1 2025-04-07 20:20:53.598306+00:00\n",
       "2    19cle4                     1 2025-04-07 20:20:53.598306+00:00\n",
       "3    2pv52w                     1 2025-04-07 20:20:53.598306+00:00\n",
       "4    2swz0t                     1 2025-04-07 20:20:53.598306+00:00\n",
       "..      ...                   ...                              ...\n",
       "995  b96clr                     1 2025-04-07 20:20:53.598306+00:00\n",
       "996  csx0c2                     1 2025-04-07 20:20:53.598306+00:00\n",
       "997  cvuxqg                     1 2025-04-07 20:20:53.598306+00:00\n",
       "998  d3pcpf                     1 2025-04-07 20:20:53.598306+00:00\n",
       "999  dvnhkp                     1 2025-04-07 20:20:53.598306+00:00\n",
       "\n",
       "[1000 rows x 3 columns]"
      ]
     },
     "execution_count": 5,
     "metadata": {},
     "output_type": "execute_result"
    }
   ],
   "source": [
    "%%bigquery\n",
    "\n",
    "select * from tokyo-country-452614-f7.credit_card_dump.user_count_transactions_7d limit 1000"
   ]
  },
  {
   "cell_type": "code",
   "execution_count": 11,
   "id": "9f97f314-7e14-445f-b56b-8e3cc405bbc4",
   "metadata": {
    "tags": []
   },
   "outputs": [
    {
     "data": {
      "text/plain": [
       "'/home/jupyter/Decision Forests/fraud_detection/feature_repo'"
      ]
     },
     "execution_count": 11,
     "metadata": {},
     "output_type": "execute_result"
    }
   ],
   "source": [
    "pwd"
   ]
  },
  {
   "cell_type": "code",
   "execution_count": 45,
   "id": "c36bb997-f1b2-49e0-b7ad-0816866a5131",
   "metadata": {
    "tags": []
   },
   "outputs": [
    {
     "name": "stdout",
     "output_type": "stream",
     "text": [
      "Overwriting fraud_features.py\n"
     ]
    }
   ],
   "source": [
    "%%writefile fraud_features.py\n",
    "\n",
    "from datetime import timedelta\n",
    "from feast import BigQuerySource, FeatureView, Entity, ValueType\n",
    "\n",
    "#Add an entity for users\n",
    "user_entity = Entity(\n",
    "    name=\"user_id\",\n",
    "    description=\"A user that has made or received a transaction\",\n",
    "    value_type=ValueType.STRING\n",
    ")\n",
    "\n",
    "#Add a FeatureView based on user_count_transactions_7d table\n",
    "\n",
    "user_7d_trans_stats_fv = FeatureView(\n",
    "    name = \"user_count_transactions_7d\",\n",
    "    entities=[user_entity],\n",
    "    ttl=timedelta(weeks=1),\n",
    "    source=BigQuerySource(\n",
    "        table=f\"tokyo-country-452614-f7.credit_card_dump.user_count_transactions_7d\",\n",
    "        timestamp_field=\"feature_timestamp\"))\n",
    "\n",
    "#Add two feature views based on existing tables in bigquery\n",
    "\n",
    "user_account_fv = FeatureView(\n",
    "    name=\"user_account_features\",\n",
    "    entities=[user_entity],\n",
    "    ttl=timedelta(weeks=52),\n",
    "    source=BigQuerySource(\n",
    "        table=f\"feast-oss.fraud_tutorial.user_account_features\",\n",
    "        timestamp_field=\"feature_timestamp\"))\n",
    "\n",
    "user_has_fraudulent_transactions_fv = FeatureView(\n",
    "    name = \"user_has_fraudulent_transactions\",\n",
    "    entities=[user_entity],\n",
    "    ttl=timedelta(weeks=52),\n",
    "    source=BigQuerySource(\n",
    "        table=f\"feast-oss.fraud_tutorial.user_has_fraudulent_transactions\",\n",
    "        timestamp_field=\"feature_timestamp\"))"
   ]
  },
  {
   "cell_type": "code",
   "execution_count": 33,
   "id": "5122f041-ccf1-42f2-981c-cbcb2a7a3b57",
   "metadata": {
    "tags": []
   },
   "outputs": [
    {
     "name": "stdout",
     "output_type": "stream",
     "text": [
      "rm: cannot remove 'example_repo.py': No such file or directory\n"
     ]
    }
   ],
   "source": [
    "!rm example_repo.py"
   ]
  },
  {
   "cell_type": "code",
   "execution_count": 46,
   "id": "697fd839-429f-4ded-a3c7-4135714ca881",
   "metadata": {
    "tags": []
   },
   "outputs": [],
   "source": [
    "rm -rf .ipynb_checkpoints"
   ]
  },
  {
   "cell_type": "code",
   "execution_count": 79,
   "id": "d6959e18-5782-432e-8e5b-ed7753253e83",
   "metadata": {
    "tags": []
   },
   "outputs": [
    {
     "name": "stdout",
     "output_type": "stream",
     "text": [
      "/opt/conda/lib/python3.10/site-packages/feast/repo_config.py:268: RuntimeWarning: `entity_key_serialization_version` is either not specified in the feature_store.yaml, or is specified to a value <= 1.This serialization version may cause errors when trying to write fields with the `Long` data type into the online store. Specifying `entity_key_serialization_version` to 2 is recommended for new projects. \n",
      "  warnings.warn(\n",
      "No project found in the repository. Using project name fraud_detection defined in feature_store.yaml\n",
      "Applying changes for project fraud_detection\n",
      "Deploying infrastructure for \u001b[1m\u001b[32muser_account_features\u001b[0m\n",
      "Deploying infrastructure for \u001b[1m\u001b[32muser_count_transactions_7d\u001b[0m\n",
      "Deploying infrastructure for \u001b[1m\u001b[32muser_has_fraudulent_transactions\u001b[0m\n"
     ]
    }
   ],
   "source": [
    "!feast apply"
   ]
  },
  {
   "cell_type": "code",
   "execution_count": 89,
   "id": "b53f7ceb-d19f-4a73-ba20-a83ed704b11f",
   "metadata": {
    "tags": []
   },
   "outputs": [
    {
     "name": "stdout",
     "output_type": "stream",
     "text": [
      "- Name: user_count_transactions_7d\n",
      "  Entities: ['user_id']\n",
      "  TTL: 7 days, 0:00:00\n",
      "  Source: tokyo-country-452614-f7.credit_card_dump.user_count_transactions_7d\n",
      "  Schema:\n",
      "    - user_id: String\n",
      "    - transaction_count_7d: Int64\n",
      "\n",
      "- Name: user_account_features\n",
      "  Entities: ['user_id']\n",
      "  TTL: 364 days, 0:00:00\n",
      "  Source: feast-oss.fraud_tutorial.user_account_features\n",
      "  Schema:\n",
      "    - user_id: String\n",
      "    - user_has_2fa_installed: Int64\n",
      "    - credit_score: Int64\n",
      "    - account_age_days: Int64\n",
      "\n",
      "- Name: user_has_fraudulent_transactions\n",
      "  Entities: ['user_id']\n",
      "  TTL: 364 days, 0:00:00\n",
      "  Source: feast-oss.fraud_tutorial.user_has_fraudulent_transactions\n",
      "  Schema:\n",
      "    - user_id: String\n",
      "    - user_has_fraudulent_transactions_7d: Float64\n",
      "\n"
     ]
    }
   ],
   "source": [
    "from feast import FeatureStore\n",
    "\n",
    "store = FeatureStore(repo_path=\".\")\n",
    "feature_views = store.list_feature_views()\n",
    "\n",
    "for fv in feature_views:\n",
    "    print(f\"- Name: {fv.name}\")\n",
    "    print(f\"  Entities: {fv.entities}\")\n",
    "    print(f\"  TTL: {fv.ttl}\")\n",
    "    print(f\"  Source: {fv.batch_source.table}\")\n",
    "    print(\"  Schema:\")\n",
    "    \n",
    "    for field in fv.schema:\n",
    "        print(f\"    - {field.name}: {field.dtype}\")\n",
    "    print()\n"
   ]
  },
  {
   "cell_type": "code",
   "execution_count": 10,
   "id": "41ed867a-41ae-444b-98f4-f75127113163",
   "metadata": {
    "tags": []
   },
   "outputs": [
    {
     "name": "stderr",
     "output_type": "stream",
     "text": [
      "/opt/conda/lib/python3.10/site-packages/feast/repo_config.py:268: RuntimeWarning: `entity_key_serialization_version` is either not specified in the feature_store.yaml, or is specified to a value <= 1.This serialization version may cause errors when trying to write fields with the `Long` data type into the online store. Specifying `entity_key_serialization_version` to 2 is recommended for new projects. \n",
      "  warnings.warn(\n"
     ]
    },
    {
     "name": "stdout",
     "output_type": "stream",
     "text": [
      "Entity: user_id\n",
      "  Join Key: user_id\n",
      "  Used in FeatureViews:\n",
      "    - FeatureView: user_count_transactions_7d\n",
      "        • transaction_count_7d (Int64)\n",
      "    - FeatureView: user_account_features\n",
      "        • credit_score (Int64)\n",
      "        • account_age_days (Int64)\n",
      "        • user_has_2fa_installed (Int64)\n",
      "    - FeatureView: user_has_fraudulent_transactions\n",
      "        • user_has_fraudulent_transactions_7d (Float64)\n"
     ]
    }
   ],
   "source": [
    "from feast import FeatureStore\n",
    "\n",
    "store = FeatureStore(repo_path=\".\")\n",
    "entities = store.list_entities()\n",
    "feature_views = store.list_feature_views()\n",
    "\n",
    "for entity in entities:\n",
    "    print(f\"Entity: {entity.name}\")\n",
    "    print(f\"  Join Key: {entity.join_key}\")\n",
    "    print(f\"  Used in FeatureViews:\")\n",
    "\n",
    "    for fv in feature_views:\n",
    "        if entity.name in fv.entities:\n",
    "            print(f\"    - FeatureView: {fv.name}\")\n",
    "            for feature in fv.features:\n",
    "                print(f\"        • {feature.name} ({feature.dtype})\")\n"
   ]
  },
  {
   "cell_type": "code",
   "execution_count": 12,
   "id": "80419fbc-04bb-4681-a39b-1e26a91bd306",
   "metadata": {
    "tags": []
   },
   "outputs": [
    {
     "name": "stderr",
     "output_type": "stream",
     "text": [
      "/opt/conda/lib/python3.10/site-packages/feast/repo_config.py:268: RuntimeWarning: `entity_key_serialization_version` is either not specified in the feature_store.yaml, or is specified to a value <= 1.This serialization version may cause errors when trying to write fields with the `Long` data type into the online store. Specifying `entity_key_serialization_version` to 2 is recommended for new projects. \n",
      "  warnings.warn(\n"
     ]
    },
    {
     "data": {
      "text/html": [
       "<div>\n",
       "<style scoped>\n",
       "    .dataframe tbody tr th:only-of-type {\n",
       "        vertical-align: middle;\n",
       "    }\n",
       "\n",
       "    .dataframe tbody tr th {\n",
       "        vertical-align: top;\n",
       "    }\n",
       "\n",
       "    .dataframe thead th {\n",
       "        text-align: right;\n",
       "    }\n",
       "</style>\n",
       "<table border=\"1\" class=\"dataframe\">\n",
       "  <thead>\n",
       "    <tr style=\"text-align: right;\">\n",
       "      <th></th>\n",
       "      <th>user_id</th>\n",
       "      <th>event_timestamp</th>\n",
       "      <th>is_fraud</th>\n",
       "      <th>user_count_transactions_7d__transaction_count_7d</th>\n",
       "      <th>user_account_features__credit_score</th>\n",
       "      <th>user_account_features__account_age_days</th>\n",
       "      <th>user_account_features__user_has_2fa_installed</th>\n",
       "      <th>user_has_fraudulent_transactions__user_has_fraudulent_transactions_7d</th>\n",
       "    </tr>\n",
       "  </thead>\n",
       "  <tbody>\n",
       "    <tr>\n",
       "      <th>0</th>\n",
       "      <td>09im2r</td>\n",
       "      <td>2025-04-13 01:29:13.245204+00:00</td>\n",
       "      <td>0</td>\n",
       "      <td>6</td>\n",
       "      <td>461</td>\n",
       "      <td>181</td>\n",
       "      <td>0</td>\n",
       "      <td>0.0</td>\n",
       "    </tr>\n",
       "    <tr>\n",
       "      <th>1</th>\n",
       "      <td>09im2r</td>\n",
       "      <td>2025-04-13 01:29:13.245204+00:00</td>\n",
       "      <td>0</td>\n",
       "      <td>6</td>\n",
       "      <td>461</td>\n",
       "      <td>181</td>\n",
       "      <td>0</td>\n",
       "      <td>0.0</td>\n",
       "    </tr>\n",
       "    <tr>\n",
       "      <th>2</th>\n",
       "      <td>0cxjlp</td>\n",
       "      <td>2025-04-13 14:42:06.024125+00:00</td>\n",
       "      <td>0</td>\n",
       "      <td>6</td>\n",
       "      <td>840</td>\n",
       "      <td>128</td>\n",
       "      <td>0</td>\n",
       "      <td>1.0</td>\n",
       "    </tr>\n",
       "    <tr>\n",
       "      <th>3</th>\n",
       "      <td>0cxjlp</td>\n",
       "      <td>2025-04-13 14:42:06.024125+00:00</td>\n",
       "      <td>0</td>\n",
       "      <td>6</td>\n",
       "      <td>840</td>\n",
       "      <td>128</td>\n",
       "      <td>0</td>\n",
       "      <td>1.0</td>\n",
       "    </tr>\n",
       "    <tr>\n",
       "      <th>4</th>\n",
       "      <td>0iml51</td>\n",
       "      <td>2025-04-13 15:21:48.325330+00:00</td>\n",
       "      <td>0</td>\n",
       "      <td>8</td>\n",
       "      <td>407</td>\n",
       "      <td>271</td>\n",
       "      <td>0</td>\n",
       "      <td>0.0</td>\n",
       "    </tr>\n",
       "  </tbody>\n",
       "</table>\n",
       "</div>"
      ],
      "text/plain": [
       "  user_id                  event_timestamp  is_fraud  \\\n",
       "0  09im2r 2025-04-13 01:29:13.245204+00:00         0   \n",
       "1  09im2r 2025-04-13 01:29:13.245204+00:00         0   \n",
       "2  0cxjlp 2025-04-13 14:42:06.024125+00:00         0   \n",
       "3  0cxjlp 2025-04-13 14:42:06.024125+00:00         0   \n",
       "4  0iml51 2025-04-13 15:21:48.325330+00:00         0   \n",
       "\n",
       "   user_count_transactions_7d__transaction_count_7d  \\\n",
       "0                                                 6   \n",
       "1                                                 6   \n",
       "2                                                 6   \n",
       "3                                                 6   \n",
       "4                                                 8   \n",
       "\n",
       "   user_account_features__credit_score  \\\n",
       "0                                  461   \n",
       "1                                  461   \n",
       "2                                  840   \n",
       "3                                  840   \n",
       "4                                  407   \n",
       "\n",
       "   user_account_features__account_age_days  \\\n",
       "0                                      181   \n",
       "1                                      181   \n",
       "2                                      128   \n",
       "3                                      128   \n",
       "4                                      271   \n",
       "\n",
       "   user_account_features__user_has_2fa_installed  \\\n",
       "0                                              0   \n",
       "1                                              0   \n",
       "2                                              0   \n",
       "3                                              0   \n",
       "4                                              0   \n",
       "\n",
       "   user_has_fraudulent_transactions__user_has_fraudulent_transactions_7d  \n",
       "0                                                0.0                      \n",
       "1                                                0.0                      \n",
       "2                                                1.0                      \n",
       "3                                                1.0                      \n",
       "4                                                0.0                      "
      ]
     },
     "execution_count": 12,
     "metadata": {},
     "output_type": "execute_result"
    }
   ],
   "source": [
    "from datetime import datetime,timedelta\n",
    "from feast import FeatureStore\n",
    "\n",
    "store = FeatureStore(repo_path=\".\")\n",
    "now = datetime.now()\n",
    "two_days_ago = datetime.now() - timedelta(days=2)\n",
    "\n",
    "training_data = store.get_historical_features(\n",
    "    entity_df=f\"\"\"\n",
    "    select \n",
    "        src_account as user_id,\n",
    "        timestamp AS event_timestamp,\n",
    "        is_fraud\n",
    "    from\n",
    "        feast-oss.fraud_tutorial.transactions\n",
    "    where\n",
    "        timestamp between timestamp('{two_days_ago.isoformat()}') \n",
    "        and timestamp('{now.isoformat()}')\"\"\",\n",
    "    features=[\n",
    "        \"user_count_transactions_7d:transaction_count_7d\",\n",
    "        \"user_account_features:credit_score\",\n",
    "        \"user_account_features:account_age_days\",\n",
    "        \"user_account_features:user_has_2fa_installed\",\n",
    "        \"user_has_fraudulent_transactions:user_has_fraudulent_transactions_7d\"\n",
    "    ],\n",
    "    full_feature_names=True\n",
    ").to_df()\n",
    "\n",
    "training_data.head()"
   ]
  },
  {
   "cell_type": "markdown",
   "id": "e3ee73e6-7156-44e9-ae87-cbe95a20ad72",
   "metadata": {},
   "source": [
    "Model Training"
   ]
  },
  {
   "cell_type": "code",
   "execution_count": 1,
   "id": "6384b6ef-ee1a-49db-ba36-165d5e225ba5",
   "metadata": {},
   "outputs": [
    {
     "name": "stdout",
     "output_type": "stream",
     "text": [
      "Requirement already satisfied: scikit-learn in /opt/conda/lib/python3.10/site-packages (1.6.1)\n",
      "Collecting xgboost\n",
      "  Downloading xgboost-3.0.0-py3-none-manylinux_2_28_x86_64.whl.metadata (2.1 kB)\n",
      "Requirement already satisfied: numpy>=1.19.5 in /opt/conda/lib/python3.10/site-packages (from scikit-learn) (1.24.2)\n",
      "Requirement already satisfied: scipy>=1.6.0 in /opt/conda/lib/python3.10/site-packages (from scikit-learn) (1.15.1)\n",
      "Requirement already satisfied: joblib>=1.2.0 in /opt/conda/lib/python3.10/site-packages (from scikit-learn) (1.4.2)\n",
      "Requirement already satisfied: threadpoolctl>=3.1.0 in /opt/conda/lib/python3.10/site-packages (from scikit-learn) (3.5.0)\n",
      "Collecting nvidia-nccl-cu12 (from xgboost)\n",
      "  Downloading nvidia_nccl_cu12-2.26.2.post1-py3-none-manylinux2014_x86_64.manylinux_2_17_x86_64.whl.metadata (2.0 kB)\n",
      "Downloading xgboost-3.0.0-py3-none-manylinux_2_28_x86_64.whl (253.9 MB)\n",
      "\u001b[2K   \u001b[90m━━━━━━━━━━━━━━━━━━━━━━━━━━━━━━━━━━━━━━━\u001b[0m \u001b[32m253.9/253.9 MB\u001b[0m \u001b[31m102.6 MB/s\u001b[0m eta \u001b[36m0:00:00\u001b[0m00:01\u001b[0m00:01\u001b[0m\n",
      "\u001b[?25hDownloading nvidia_nccl_cu12-2.26.2.post1-py3-none-manylinux2014_x86_64.manylinux_2_17_x86_64.whl (291.7 MB)\n",
      "\u001b[2K   \u001b[90m━━━━━━━━━━━━━━━━━━━━━━━━━━━━━━━━━━━━━━━━\u001b[0m \u001b[32m291.7/291.7 MB\u001b[0m \u001b[31m83.9 MB/s\u001b[0m eta \u001b[36m0:00:00\u001b[0m00:01\u001b[0m00:01\u001b[0m\n",
      "\u001b[?25hInstalling collected packages: nvidia-nccl-cu12, xgboost\n",
      "Successfully installed nvidia-nccl-cu12-2.26.2.post1 xgboost-3.0.0\n",
      "\n",
      "\u001b[1m[\u001b[0m\u001b[34;49mnotice\u001b[0m\u001b[1;39;49m]\u001b[0m\u001b[39;49m A new release of pip is available: \u001b[0m\u001b[31;49m25.0\u001b[0m\u001b[39;49m -> \u001b[0m\u001b[32;49m25.0.1\u001b[0m\n",
      "\u001b[1m[\u001b[0m\u001b[34;49mnotice\u001b[0m\u001b[1;39;49m]\u001b[0m\u001b[39;49m To update, run: \u001b[0m\u001b[32;49mpip install --upgrade pip\u001b[0m\n"
     ]
    }
   ],
   "source": [
    "!pip install scikit-learn xgboost"
   ]
  },
  {
   "cell_type": "code",
   "execution_count": 13,
   "id": "d12982f2-4daa-4c80-a5d6-4040c8105f23",
   "metadata": {
    "tags": []
   },
   "outputs": [
    {
     "data": {
      "text/html": [
       "<style>#sk-container-id-1 {\n",
       "  /* Definition of color scheme common for light and dark mode */\n",
       "  --sklearn-color-text: black;\n",
       "  --sklearn-color-line: gray;\n",
       "  /* Definition of color scheme for unfitted estimators */\n",
       "  --sklearn-color-unfitted-level-0: #fff5e6;\n",
       "  --sklearn-color-unfitted-level-1: #f6e4d2;\n",
       "  --sklearn-color-unfitted-level-2: #ffe0b3;\n",
       "  --sklearn-color-unfitted-level-3: chocolate;\n",
       "  /* Definition of color scheme for fitted estimators */\n",
       "  --sklearn-color-fitted-level-0: #f0f8ff;\n",
       "  --sklearn-color-fitted-level-1: #d4ebff;\n",
       "  --sklearn-color-fitted-level-2: #b3dbfd;\n",
       "  --sklearn-color-fitted-level-3: cornflowerblue;\n",
       "\n",
       "  /* Specific color for light theme */\n",
       "  --sklearn-color-text-on-default-background: var(--sg-text-color, var(--theme-code-foreground, var(--jp-content-font-color1, black)));\n",
       "  --sklearn-color-background: var(--sg-background-color, var(--theme-background, var(--jp-layout-color0, white)));\n",
       "  --sklearn-color-border-box: var(--sg-text-color, var(--theme-code-foreground, var(--jp-content-font-color1, black)));\n",
       "  --sklearn-color-icon: #696969;\n",
       "\n",
       "  @media (prefers-color-scheme: dark) {\n",
       "    /* Redefinition of color scheme for dark theme */\n",
       "    --sklearn-color-text-on-default-background: var(--sg-text-color, var(--theme-code-foreground, var(--jp-content-font-color1, white)));\n",
       "    --sklearn-color-background: var(--sg-background-color, var(--theme-background, var(--jp-layout-color0, #111)));\n",
       "    --sklearn-color-border-box: var(--sg-text-color, var(--theme-code-foreground, var(--jp-content-font-color1, white)));\n",
       "    --sklearn-color-icon: #878787;\n",
       "  }\n",
       "}\n",
       "\n",
       "#sk-container-id-1 {\n",
       "  color: var(--sklearn-color-text);\n",
       "}\n",
       "\n",
       "#sk-container-id-1 pre {\n",
       "  padding: 0;\n",
       "}\n",
       "\n",
       "#sk-container-id-1 input.sk-hidden--visually {\n",
       "  border: 0;\n",
       "  clip: rect(1px 1px 1px 1px);\n",
       "  clip: rect(1px, 1px, 1px, 1px);\n",
       "  height: 1px;\n",
       "  margin: -1px;\n",
       "  overflow: hidden;\n",
       "  padding: 0;\n",
       "  position: absolute;\n",
       "  width: 1px;\n",
       "}\n",
       "\n",
       "#sk-container-id-1 div.sk-dashed-wrapped {\n",
       "  border: 1px dashed var(--sklearn-color-line);\n",
       "  margin: 0 0.4em 0.5em 0.4em;\n",
       "  box-sizing: border-box;\n",
       "  padding-bottom: 0.4em;\n",
       "  background-color: var(--sklearn-color-background);\n",
       "}\n",
       "\n",
       "#sk-container-id-1 div.sk-container {\n",
       "  /* jupyter's `normalize.less` sets `[hidden] { display: none; }`\n",
       "     but bootstrap.min.css set `[hidden] { display: none !important; }`\n",
       "     so we also need the `!important` here to be able to override the\n",
       "     default hidden behavior on the sphinx rendered scikit-learn.org.\n",
       "     See: https://github.com/scikit-learn/scikit-learn/issues/21755 */\n",
       "  display: inline-block !important;\n",
       "  position: relative;\n",
       "}\n",
       "\n",
       "#sk-container-id-1 div.sk-text-repr-fallback {\n",
       "  display: none;\n",
       "}\n",
       "\n",
       "div.sk-parallel-item,\n",
       "div.sk-serial,\n",
       "div.sk-item {\n",
       "  /* draw centered vertical line to link estimators */\n",
       "  background-image: linear-gradient(var(--sklearn-color-text-on-default-background), var(--sklearn-color-text-on-default-background));\n",
       "  background-size: 2px 100%;\n",
       "  background-repeat: no-repeat;\n",
       "  background-position: center center;\n",
       "}\n",
       "\n",
       "/* Parallel-specific style estimator block */\n",
       "\n",
       "#sk-container-id-1 div.sk-parallel-item::after {\n",
       "  content: \"\";\n",
       "  width: 100%;\n",
       "  border-bottom: 2px solid var(--sklearn-color-text-on-default-background);\n",
       "  flex-grow: 1;\n",
       "}\n",
       "\n",
       "#sk-container-id-1 div.sk-parallel {\n",
       "  display: flex;\n",
       "  align-items: stretch;\n",
       "  justify-content: center;\n",
       "  background-color: var(--sklearn-color-background);\n",
       "  position: relative;\n",
       "}\n",
       "\n",
       "#sk-container-id-1 div.sk-parallel-item {\n",
       "  display: flex;\n",
       "  flex-direction: column;\n",
       "}\n",
       "\n",
       "#sk-container-id-1 div.sk-parallel-item:first-child::after {\n",
       "  align-self: flex-end;\n",
       "  width: 50%;\n",
       "}\n",
       "\n",
       "#sk-container-id-1 div.sk-parallel-item:last-child::after {\n",
       "  align-self: flex-start;\n",
       "  width: 50%;\n",
       "}\n",
       "\n",
       "#sk-container-id-1 div.sk-parallel-item:only-child::after {\n",
       "  width: 0;\n",
       "}\n",
       "\n",
       "/* Serial-specific style estimator block */\n",
       "\n",
       "#sk-container-id-1 div.sk-serial {\n",
       "  display: flex;\n",
       "  flex-direction: column;\n",
       "  align-items: center;\n",
       "  background-color: var(--sklearn-color-background);\n",
       "  padding-right: 1em;\n",
       "  padding-left: 1em;\n",
       "}\n",
       "\n",
       "\n",
       "/* Toggleable style: style used for estimator/Pipeline/ColumnTransformer box that is\n",
       "clickable and can be expanded/collapsed.\n",
       "- Pipeline and ColumnTransformer use this feature and define the default style\n",
       "- Estimators will overwrite some part of the style using the `sk-estimator` class\n",
       "*/\n",
       "\n",
       "/* Pipeline and ColumnTransformer style (default) */\n",
       "\n",
       "#sk-container-id-1 div.sk-toggleable {\n",
       "  /* Default theme specific background. It is overwritten whether we have a\n",
       "  specific estimator or a Pipeline/ColumnTransformer */\n",
       "  background-color: var(--sklearn-color-background);\n",
       "}\n",
       "\n",
       "/* Toggleable label */\n",
       "#sk-container-id-1 label.sk-toggleable__label {\n",
       "  cursor: pointer;\n",
       "  display: block;\n",
       "  width: 100%;\n",
       "  margin-bottom: 0;\n",
       "  padding: 0.5em;\n",
       "  box-sizing: border-box;\n",
       "  text-align: center;\n",
       "}\n",
       "\n",
       "#sk-container-id-1 label.sk-toggleable__label-arrow:before {\n",
       "  /* Arrow on the left of the label */\n",
       "  content: \"▸\";\n",
       "  float: left;\n",
       "  margin-right: 0.25em;\n",
       "  color: var(--sklearn-color-icon);\n",
       "}\n",
       "\n",
       "#sk-container-id-1 label.sk-toggleable__label-arrow:hover:before {\n",
       "  color: var(--sklearn-color-text);\n",
       "}\n",
       "\n",
       "/* Toggleable content - dropdown */\n",
       "\n",
       "#sk-container-id-1 div.sk-toggleable__content {\n",
       "  max-height: 0;\n",
       "  max-width: 0;\n",
       "  overflow: hidden;\n",
       "  text-align: left;\n",
       "  /* unfitted */\n",
       "  background-color: var(--sklearn-color-unfitted-level-0);\n",
       "}\n",
       "\n",
       "#sk-container-id-1 div.sk-toggleable__content.fitted {\n",
       "  /* fitted */\n",
       "  background-color: var(--sklearn-color-fitted-level-0);\n",
       "}\n",
       "\n",
       "#sk-container-id-1 div.sk-toggleable__content pre {\n",
       "  margin: 0.2em;\n",
       "  border-radius: 0.25em;\n",
       "  color: var(--sklearn-color-text);\n",
       "  /* unfitted */\n",
       "  background-color: var(--sklearn-color-unfitted-level-0);\n",
       "}\n",
       "\n",
       "#sk-container-id-1 div.sk-toggleable__content.fitted pre {\n",
       "  /* unfitted */\n",
       "  background-color: var(--sklearn-color-fitted-level-0);\n",
       "}\n",
       "\n",
       "#sk-container-id-1 input.sk-toggleable__control:checked~div.sk-toggleable__content {\n",
       "  /* Expand drop-down */\n",
       "  max-height: 200px;\n",
       "  max-width: 100%;\n",
       "  overflow: auto;\n",
       "}\n",
       "\n",
       "#sk-container-id-1 input.sk-toggleable__control:checked~label.sk-toggleable__label-arrow:before {\n",
       "  content: \"▾\";\n",
       "}\n",
       "\n",
       "/* Pipeline/ColumnTransformer-specific style */\n",
       "\n",
       "#sk-container-id-1 div.sk-label input.sk-toggleable__control:checked~label.sk-toggleable__label {\n",
       "  color: var(--sklearn-color-text);\n",
       "  background-color: var(--sklearn-color-unfitted-level-2);\n",
       "}\n",
       "\n",
       "#sk-container-id-1 div.sk-label.fitted input.sk-toggleable__control:checked~label.sk-toggleable__label {\n",
       "  background-color: var(--sklearn-color-fitted-level-2);\n",
       "}\n",
       "\n",
       "/* Estimator-specific style */\n",
       "\n",
       "/* Colorize estimator box */\n",
       "#sk-container-id-1 div.sk-estimator input.sk-toggleable__control:checked~label.sk-toggleable__label {\n",
       "  /* unfitted */\n",
       "  background-color: var(--sklearn-color-unfitted-level-2);\n",
       "}\n",
       "\n",
       "#sk-container-id-1 div.sk-estimator.fitted input.sk-toggleable__control:checked~label.sk-toggleable__label {\n",
       "  /* fitted */\n",
       "  background-color: var(--sklearn-color-fitted-level-2);\n",
       "}\n",
       "\n",
       "#sk-container-id-1 div.sk-label label.sk-toggleable__label,\n",
       "#sk-container-id-1 div.sk-label label {\n",
       "  /* The background is the default theme color */\n",
       "  color: var(--sklearn-color-text-on-default-background);\n",
       "}\n",
       "\n",
       "/* On hover, darken the color of the background */\n",
       "#sk-container-id-1 div.sk-label:hover label.sk-toggleable__label {\n",
       "  color: var(--sklearn-color-text);\n",
       "  background-color: var(--sklearn-color-unfitted-level-2);\n",
       "}\n",
       "\n",
       "/* Label box, darken color on hover, fitted */\n",
       "#sk-container-id-1 div.sk-label.fitted:hover label.sk-toggleable__label.fitted {\n",
       "  color: var(--sklearn-color-text);\n",
       "  background-color: var(--sklearn-color-fitted-level-2);\n",
       "}\n",
       "\n",
       "/* Estimator label */\n",
       "\n",
       "#sk-container-id-1 div.sk-label label {\n",
       "  font-family: monospace;\n",
       "  font-weight: bold;\n",
       "  display: inline-block;\n",
       "  line-height: 1.2em;\n",
       "}\n",
       "\n",
       "#sk-container-id-1 div.sk-label-container {\n",
       "  text-align: center;\n",
       "}\n",
       "\n",
       "/* Estimator-specific */\n",
       "#sk-container-id-1 div.sk-estimator {\n",
       "  font-family: monospace;\n",
       "  border: 1px dotted var(--sklearn-color-border-box);\n",
       "  border-radius: 0.25em;\n",
       "  box-sizing: border-box;\n",
       "  margin-bottom: 0.5em;\n",
       "  /* unfitted */\n",
       "  background-color: var(--sklearn-color-unfitted-level-0);\n",
       "}\n",
       "\n",
       "#sk-container-id-1 div.sk-estimator.fitted {\n",
       "  /* fitted */\n",
       "  background-color: var(--sklearn-color-fitted-level-0);\n",
       "}\n",
       "\n",
       "/* on hover */\n",
       "#sk-container-id-1 div.sk-estimator:hover {\n",
       "  /* unfitted */\n",
       "  background-color: var(--sklearn-color-unfitted-level-2);\n",
       "}\n",
       "\n",
       "#sk-container-id-1 div.sk-estimator.fitted:hover {\n",
       "  /* fitted */\n",
       "  background-color: var(--sklearn-color-fitted-level-2);\n",
       "}\n",
       "\n",
       "/* Specification for estimator info (e.g. \"i\" and \"?\") */\n",
       "\n",
       "/* Common style for \"i\" and \"?\" */\n",
       "\n",
       ".sk-estimator-doc-link,\n",
       "a:link.sk-estimator-doc-link,\n",
       "a:visited.sk-estimator-doc-link {\n",
       "  float: right;\n",
       "  font-size: smaller;\n",
       "  line-height: 1em;\n",
       "  font-family: monospace;\n",
       "  background-color: var(--sklearn-color-background);\n",
       "  border-radius: 1em;\n",
       "  height: 1em;\n",
       "  width: 1em;\n",
       "  text-decoration: none !important;\n",
       "  margin-left: 1ex;\n",
       "  /* unfitted */\n",
       "  border: var(--sklearn-color-unfitted-level-1) 1pt solid;\n",
       "  color: var(--sklearn-color-unfitted-level-1);\n",
       "}\n",
       "\n",
       ".sk-estimator-doc-link.fitted,\n",
       "a:link.sk-estimator-doc-link.fitted,\n",
       "a:visited.sk-estimator-doc-link.fitted {\n",
       "  /* fitted */\n",
       "  border: var(--sklearn-color-fitted-level-1) 1pt solid;\n",
       "  color: var(--sklearn-color-fitted-level-1);\n",
       "}\n",
       "\n",
       "/* On hover */\n",
       "div.sk-estimator:hover .sk-estimator-doc-link:hover,\n",
       ".sk-estimator-doc-link:hover,\n",
       "div.sk-label-container:hover .sk-estimator-doc-link:hover,\n",
       ".sk-estimator-doc-link:hover {\n",
       "  /* unfitted */\n",
       "  background-color: var(--sklearn-color-unfitted-level-3);\n",
       "  color: var(--sklearn-color-background);\n",
       "  text-decoration: none;\n",
       "}\n",
       "\n",
       "div.sk-estimator.fitted:hover .sk-estimator-doc-link.fitted:hover,\n",
       ".sk-estimator-doc-link.fitted:hover,\n",
       "div.sk-label-container:hover .sk-estimator-doc-link.fitted:hover,\n",
       ".sk-estimator-doc-link.fitted:hover {\n",
       "  /* fitted */\n",
       "  background-color: var(--sklearn-color-fitted-level-3);\n",
       "  color: var(--sklearn-color-background);\n",
       "  text-decoration: none;\n",
       "}\n",
       "\n",
       "/* Span, style for the box shown on hovering the info icon */\n",
       ".sk-estimator-doc-link span {\n",
       "  display: none;\n",
       "  z-index: 9999;\n",
       "  position: relative;\n",
       "  font-weight: normal;\n",
       "  right: .2ex;\n",
       "  padding: .5ex;\n",
       "  margin: .5ex;\n",
       "  width: min-content;\n",
       "  min-width: 20ex;\n",
       "  max-width: 50ex;\n",
       "  color: var(--sklearn-color-text);\n",
       "  box-shadow: 2pt 2pt 4pt #999;\n",
       "  /* unfitted */\n",
       "  background: var(--sklearn-color-unfitted-level-0);\n",
       "  border: .5pt solid var(--sklearn-color-unfitted-level-3);\n",
       "}\n",
       "\n",
       ".sk-estimator-doc-link.fitted span {\n",
       "  /* fitted */\n",
       "  background: var(--sklearn-color-fitted-level-0);\n",
       "  border: var(--sklearn-color-fitted-level-3);\n",
       "}\n",
       "\n",
       ".sk-estimator-doc-link:hover span {\n",
       "  display: block;\n",
       "}\n",
       "\n",
       "/* \"?\"-specific style due to the `<a>` HTML tag */\n",
       "\n",
       "#sk-container-id-1 a.estimator_doc_link {\n",
       "  float: right;\n",
       "  font-size: 1rem;\n",
       "  line-height: 1em;\n",
       "  font-family: monospace;\n",
       "  background-color: var(--sklearn-color-background);\n",
       "  border-radius: 1rem;\n",
       "  height: 1rem;\n",
       "  width: 1rem;\n",
       "  text-decoration: none;\n",
       "  /* unfitted */\n",
       "  color: var(--sklearn-color-unfitted-level-1);\n",
       "  border: var(--sklearn-color-unfitted-level-1) 1pt solid;\n",
       "}\n",
       "\n",
       "#sk-container-id-1 a.estimator_doc_link.fitted {\n",
       "  /* fitted */\n",
       "  border: var(--sklearn-color-fitted-level-1) 1pt solid;\n",
       "  color: var(--sklearn-color-fitted-level-1);\n",
       "}\n",
       "\n",
       "/* On hover */\n",
       "#sk-container-id-1 a.estimator_doc_link:hover {\n",
       "  /* unfitted */\n",
       "  background-color: var(--sklearn-color-unfitted-level-3);\n",
       "  color: var(--sklearn-color-background);\n",
       "  text-decoration: none;\n",
       "}\n",
       "\n",
       "#sk-container-id-1 a.estimator_doc_link.fitted:hover {\n",
       "  /* fitted */\n",
       "  background-color: var(--sklearn-color-fitted-level-3);\n",
       "}\n",
       "</style><div id=\"sk-container-id-1\" class=\"sk-top-container\"><div class=\"sk-text-repr-fallback\"><pre>RandomForestClassifier(class_weight=&#x27;balanced&#x27;, random_state=42)</pre><b>In a Jupyter environment, please rerun this cell to show the HTML representation or trust the notebook. <br />On GitHub, the HTML representation is unable to render, please try loading this page with nbviewer.org.</b></div><div class=\"sk-container\" hidden><div class=\"sk-item\"><div class=\"sk-estimator fitted sk-toggleable\"><input class=\"sk-toggleable__control sk-hidden--visually\" id=\"sk-estimator-id-1\" type=\"checkbox\" checked><label for=\"sk-estimator-id-1\" class=\"sk-toggleable__label fitted sk-toggleable__label-arrow fitted\">&nbsp;&nbsp;RandomForestClassifier<a class=\"sk-estimator-doc-link fitted\" rel=\"noreferrer\" target=\"_blank\" href=\"https://scikit-learn.org/1.5/modules/generated/sklearn.ensemble.RandomForestClassifier.html\">?<span>Documentation for RandomForestClassifier</span></a><span class=\"sk-estimator-doc-link fitted\">i<span>Fitted</span></span></label><div class=\"sk-toggleable__content fitted\"><pre>RandomForestClassifier(class_weight=&#x27;balanced&#x27;, random_state=42)</pre></div> </div></div></div></div>"
      ],
      "text/plain": [
       "RandomForestClassifier(class_weight='balanced', random_state=42)"
      ]
     },
     "execution_count": 13,
     "metadata": {},
     "output_type": "execute_result"
    }
   ],
   "source": [
    "# Import necessary libraries\n",
    "import pandas as pd\n",
    "from sklearn.model_selection import train_test_split\n",
    "from sklearn.linear_model import LogisticRegression\n",
    "from sklearn.ensemble import RandomForestClassifier\n",
    "#from xgboost import XGBClassifier\n",
    "from sklearn.metrics import accuracy_score, precision_score, recall_score, f1_score, roc_auc_score\n",
    "\n",
    "training_data.dropna(inplace=True)\n",
    "\n",
    "# Define features (X) and target (y)\n",
    "X = training_data[[\n",
    "    \"user_count_transactions_7d__transaction_count_7d\", \n",
    "    \"user_account_features__credit_score\",\n",
    "    \"user_account_features__account_age_days\",\n",
    "    \"user_account_features__user_has_2fa_installed\",\n",
    "    \"user_has_fraudulent_transactions__user_has_fraudulent_transactions_7d\"\n",
    "]]\n",
    "y = training_data[\"is_fraud\"]\n",
    "\n",
    "# Split the data into training and test sets (80-20 split)\n",
    "X_train, X_test, y_train, y_test = train_test_split(X, y, test_size=0.2, random_state=42)\n",
    "\n",
    "# Define models\n",
    "log_reg_model = LogisticRegression()\n",
    "rf_model = RandomForestClassifier(n_estimators=100,class_weight='balanced', random_state=42)\n",
    "#xgb_model = XGBClassifier(use_label_encoder=False, eval_metric='logloss', random_state=42)\n",
    "\n",
    "# Train models\n",
    "log_reg_model.fit(X_train, y_train)\n",
    "rf_model.fit(X_train, y_train)\n",
    "\n",
    "#xgb_model.fit(X_train, y_train)\n"
   ]
  },
  {
   "cell_type": "code",
   "execution_count": 14,
   "id": "1157468d-8cc0-4908-930a-491d323b4997",
   "metadata": {
    "tags": []
   },
   "outputs": [],
   "source": [
    "# Make predictions\n",
    "log_reg_pred = log_reg_model.predict(X_test)\n",
    "rf_pred = rf_model.predict(X_test)\n",
    "#xgb_pred = xgb_model.predict(X_test)"
   ]
  },
  {
   "cell_type": "code",
   "execution_count": 15,
   "id": "2a56dbad-8443-48b6-979e-6ffa733a6a83",
   "metadata": {
    "tags": []
   },
   "outputs": [
    {
     "name": "stdout",
     "output_type": "stream",
     "text": [
      "Logistic Regression Performance:\n",
      "  Accuracy: 0.9527\n",
      "  Precision: 0.0000\n",
      "  Recall: 0.0000\n",
      "  F1 Score: 0.0000\n",
      "  ROC AUC: 0.5000\n",
      "--------------------------------------------------\n",
      "Random Forest Performance:\n",
      "  Accuracy: 0.9614\n",
      "  Precision: 0.5736\n",
      "  Recall: 0.7197\n",
      "  F1 Score: 0.6384\n",
      "  ROC AUC: 0.8466\n",
      "--------------------------------------------------\n"
     ]
    },
    {
     "name": "stderr",
     "output_type": "stream",
     "text": [
      "/opt/conda/lib/python3.10/site-packages/sklearn/metrics/_classification.py:1531: UndefinedMetricWarning: Precision is ill-defined and being set to 0.0 due to no predicted samples. Use `zero_division` parameter to control this behavior.\n",
      "  _warn_prf(average, modifier, f\"{metric.capitalize()} is\", len(result))\n"
     ]
    }
   ],
   "source": [
    "# Evaluate models using accuracy, precision, recall, F1 score, and ROC AUC\n",
    "def evaluate_model(predictions, model_name):\n",
    "    accuracy = accuracy_score(y_test, predictions)\n",
    "    precision = precision_score(y_test, predictions)\n",
    "    recall = recall_score(y_test, predictions)\n",
    "    f1 = f1_score(y_test, predictions)\n",
    "    roc_auc = roc_auc_score(y_test, predictions)\n",
    "    \n",
    "    print(f\"{model_name} Performance:\")\n",
    "    print(f\"  Accuracy: {accuracy:.4f}\")\n",
    "    print(f\"  Precision: {precision:.4f}\")\n",
    "    print(f\"  Recall: {recall:.4f}\")\n",
    "    print(f\"  F1 Score: {f1:.4f}\")\n",
    "    print(f\"  ROC AUC: {roc_auc:.4f}\")\n",
    "    print(\"-\" * 50)\n",
    "\n",
    "# Evaluate each model\n",
    "evaluate_model(log_reg_pred, \"Logistic Regression\")\n",
    "evaluate_model(rf_pred, \"Random Forest\")\n",
    "#evaluate_model(xgb_pred, \"XGBoost\")\n"
   ]
  },
  {
   "cell_type": "code",
   "execution_count": 16,
   "id": "c53f324d-6d13-4ba4-944b-cab7e67b2ba3",
   "metadata": {
    "tags": []
   },
   "outputs": [],
   "source": [
    "from sklearn import metrics\n",
    "from sklearn.metrics import confusion_matrix, ConfusionMatrixDisplay\n",
    "import matplotlib.pyplot as plt"
   ]
  },
  {
   "cell_type": "code",
   "execution_count": 17,
   "id": "3c0677cf-e8b3-4105-a33e-33afe68b9222",
   "metadata": {
    "tags": []
   },
   "outputs": [
    {
     "name": "stdout",
     "output_type": "stream",
     "text": [
      "Confusion Matrix:\n",
      "[[3077   84]\n",
      " [  44  113]]\n"
     ]
    },
    {
     "data": {
      "image/png": "[encoded data removed]",
      "text/plain": [
       "<Figure size 640x480 with 2 Axes>"
      ]
     },
     "metadata": {},
     "output_type": "display_data"
    }
   ],
   "source": [
    "# Print matrix\n",
    "cm_RF = metrics.confusion_matrix(y_test, rf_pred)\n",
    "print(\"Confusion Matrix:\")\n",
    "print(cm_RF)\n",
    "\n",
    "# Optional: visualize it\n",
    "disp = ConfusionMatrixDisplay(confusion_matrix=cm_RF)\n",
    "disp.plot(cmap=plt.cm.Blues)\n",
    "plt.title(\"Random Forest Confusion Matrix\")\n",
    "plt.show()"
   ]
  },
  {
   "cell_type": "markdown",
   "id": "c8712811-4c7a-441f-b1c2-333960c26947",
   "metadata": {},
   "source": [
    "WE have high recall here which is good for fraud detection as we do not want to miss any fradulent ransaction but if any non fraud transaction marked as fraudulet then system can review and proceed further!"
   ]
  },
  {
   "cell_type": "code",
   "execution_count": 20,
   "id": "df99ae7d-ebe9-4c27-8002-3d8f4a17fab5",
   "metadata": {
    "tags": []
   },
   "outputs": [
    {
     "data": {
      "text/plain": [
       "['model.joblib']"
      ]
     },
     "execution_count": 20,
     "metadata": {},
     "output_type": "execute_result"
    }
   ],
   "source": [
    "import joblib\n",
    "\n",
    "# Save the model to a local file\n",
    "joblib.dump(rf_model, \"model.joblib\")\n"
   ]
  },
  {
   "cell_type": "code",
   "execution_count": 21,
   "id": "a84b7a7e-db07-4def-821b-f34c2dc69806",
   "metadata": {
    "tags": []
   },
   "outputs": [],
   "source": [
    "loaded_model = joblib.load('model.joblib')"
   ]
  },
  {
   "cell_type": "code",
   "execution_count": 22,
   "id": "df055865-ca18-4a2f-b8f7-081147162079",
   "metadata": {
    "tags": []
   },
   "outputs": [
    {
     "name": "stdout",
     "output_type": "stream",
     "text": [
      "Loaded Model Accuracy: 0.9614\n"
     ]
    }
   ],
   "source": [
    "y_pred_loaded = loaded_model.predict(X_test)\n",
    "accuracy_loaded = accuracy_score(y_test, y_pred_loaded)\n",
    "print(f\"Loaded Model Accuracy: {accuracy_loaded:.4f}\")"
   ]
  },
  {
   "cell_type": "code",
   "execution_count": 23,
   "id": "a3851311-07f0-43fc-887b-a81d668d2443",
   "metadata": {
    "tags": []
   },
   "outputs": [
    {
     "name": "stdout",
     "output_type": "stream",
     "text": [
      "scikit-learn version: 1.5.2\n",
      "joblib version: 1.4.2\n"
     ]
    }
   ],
   "source": [
    "import sklearn\n",
    "import joblib\n",
    "\n",
    "# Print version of scikit-learn and joblib\n",
    "print(f\"scikit-learn version: {sklearn.__version__}\")\n",
    "print(f\"joblib version: {joblib.__version__}\")\n"
   ]
  },
  {
   "cell_type": "code",
   "execution_count": 24,
   "id": "8524b6d1-3004-48a0-8d1b-a2b9d9bd4a74",
   "metadata": {
    "tags": []
   },
   "outputs": [
    {
     "name": "stdout",
     "output_type": "stream",
     "text": [
      "Copying file://model.joblib [Content-Type=application/octet-stream]...\n",
      "/ [1 files][ 13.3 MiB/ 13.3 MiB]                                                \n",
      "Operation completed over 1 objects/13.3 MiB.                                     \n"
     ]
    }
   ],
   "source": [
    "# Upload to GCS\n",
    "!gsutil cp model.joblib gs://$BUCKET_NAME/model_dir/model.joblib\n"
   ]
  },
  {
   "cell_type": "code",
   "execution_count": 25,
   "id": "2d65ea56-efdf-4e31-b443-7df23d113053",
   "metadata": {
    "tags": []
   },
   "outputs": [
    {
     "name": "stdout",
     "output_type": "stream",
     "text": [
      "Model downloaded to /tmp/model.joblib\n"
     ]
    }
   ],
   "source": [
    "from google.cloud import storage\n",
    "import joblib\n",
    "\n",
    "# Initialize the GCS client\n",
    "client = storage.Client()\n",
    "\n",
    "# Specify the bucket and model file path\n",
    "bucket_name = 'movielensestorage'\n",
    "model_blob_name = 'model_dir/model.joblib'\n",
    "\n",
    "# Reference the GCS bucket and blob\n",
    "bucket = client.get_bucket(bucket_name)\n",
    "blob = bucket.blob(model_blob_name)\n",
    "\n",
    "# Download the model file to local disk\n",
    "local_model_path = '/tmp/model.joblib'\n",
    "blob.download_to_filename(local_model_path)\n",
    "\n",
    "print(f'Model downloaded to {local_model_path}')\n"
   ]
  },
  {
   "cell_type": "code",
   "execution_count": 26,
   "id": "d1a4340f-2792-43d4-9eb1-22c5da892f07",
   "metadata": {
    "tags": []
   },
   "outputs": [
    {
     "name": "stdout",
     "output_type": "stream",
     "text": [
      "Model loaded successfully.\n"
     ]
    }
   ],
   "source": [
    "# Load the model using joblib\n",
    "model2 = joblib.load('/tmp/model.joblib')\n",
    "print('Model loaded successfully.')\n",
    "\n",
    "# You can now use the model to make predictions\n"
   ]
  },
  {
   "cell_type": "code",
   "execution_count": 27,
   "id": "36fca17a-f828-402e-a4d4-9ad9da774a06",
   "metadata": {
    "tags": []
   },
   "outputs": [
    {
     "name": "stdout",
     "output_type": "stream",
     "text": [
      "Predictions: [0]\n"
     ]
    }
   ],
   "source": [
    "import pandas as pd\n",
    "\n",
    "# Prepare your input data (make sure the features match what the model expects)\n",
    "input_data = pd.DataFrame({\n",
    "    'user_count_transactions_7d__transaction_count_7d': [10],\n",
    "    'user_account_features__credit_score': [700],\n",
    "    'user_account_features__account_age_days': [365],\n",
    "    'user_account_features__user_has_2fa_installed': [1],\n",
    "    'user_has_fraudulent_transactions__user_has_fraudulent_transactions_7d': [0]\n",
    "})\n",
    "\n",
    "# Make predictions\n",
    "predictions = model2.predict(input_data)\n",
    "print(f'Predictions: {predictions}')\n"
   ]
  },
  {
   "cell_type": "code",
   "execution_count": 28,
   "id": "f8793b2c-ff7e-462b-a32f-af80ed78edf1",
   "metadata": {
    "tags": []
   },
   "outputs": [],
   "source": [
    "from google.cloud import aiplatform\n",
    "\n",
    "aiplatform.init(\n",
    "    project=PROJECT_ID,\n",
    "    location=\"us-central1\",  \n",
    "    staging_bucket=\"gs://movielensestorage\",\n",
    ")\n"
   ]
  },
  {
   "cell_type": "code",
   "execution_count": 29,
   "id": "bcffe9eb-01d0-4e34-9374-fe2078e4d476",
   "metadata": {
    "tags": []
   },
   "outputs": [
    {
     "name": "stdout",
     "output_type": "stream",
     "text": [
      "Creating Model\n",
      "Create Model backing LRO: projects/738666983022/locations/us-central1/models/703191562032513024/operations/7268924800620298240\n",
      "Model created. Resource name: projects/738666983022/locations/us-central1/models/703191562032513024@1\n",
      "To use this Model in another session:\n",
      "model = aiplatform.Model('projects/738666983022/locations/us-central1/models/703191562032513024@1')\n"
     ]
    }
   ],
   "source": [
    "model = aiplatform.Model.upload(\n",
    "    display_name=\"random-forest-fraud-detection-model7\",\n",
    "    artifact_uri=\"gs://movielensestorage/model_dir/\", \n",
    "    serving_container_image_uri=\"us-docker.pkg.dev/vertex-ai/prediction/sklearn-cpu.1-5:latest\",\n",
    "    serving_container_environment_variables={\n",
    "        \"MODEL_FILENAME\": \"model.joblib\"\n",
    "    }\n",
    ")"
   ]
  },
  {
   "cell_type": "code",
   "execution_count": 30,
   "id": "e927073d-dc42-425e-98a1-17e6daf4c2b8",
   "metadata": {
    "tags": []
   },
   "outputs": [
    {
     "name": "stdout",
     "output_type": "stream",
     "text": [
      "Creating Endpoint\n",
      "Create Endpoint backing LRO: projects/738666983022/locations/us-central1/endpoints/8312823576939986944/operations/2910355154999967744\n",
      "Endpoint created. Resource name: projects/738666983022/locations/us-central1/endpoints/8312823576939986944\n",
      "To use this Endpoint in another session:\n",
      "endpoint = aiplatform.Endpoint('projects/738666983022/locations/us-central1/endpoints/8312823576939986944')\n",
      "Deploying model to Endpoint : projects/738666983022/locations/us-central1/endpoints/8312823576939986944\n",
      "Deploy Endpoint model backing LRO: projects/738666983022/locations/us-central1/endpoints/8312823576939986944/operations/5494506547436322816\n",
      "Endpoint model deployed. Resource name: projects/738666983022/locations/us-central1/endpoints/8312823576939986944\n"
     ]
    }
   ],
   "source": [
    "endpoint = model.deploy(\n",
    "    deployed_model_display_name=\"rf-fraud-detector7\",\n",
    "    machine_type=\"n1-standard-2\",\n",
    ")\n"
   ]
  },
  {
   "cell_type": "code",
   "execution_count": 80,
   "id": "d6d47a59-f295-4eeb-91ac-7338ec02543a",
   "metadata": {
    "tags": []
   },
   "outputs": [
    {
     "name": "stdout",
     "output_type": "stream",
     "text": [
      "/opt/conda/lib/python3.10/site-packages/feast/repo_config.py:268: RuntimeWarning: `entity_key_serialization_version` is either not specified in the feature_store.yaml, or is specified to a value <= 1.This serialization version may cause errors when trying to write fields with the `Long` data type into the online store. Specifying `entity_key_serialization_version` to 2 is recommended for new projects. \n",
      "  warnings.warn(\n",
      "Materializing \u001b[1m\u001b[32m3\u001b[0m feature views to \u001b[1m\u001b[32m2025-04-14 18:16:47+00:00\u001b[0m into the \u001b[1m\u001b[32mredis\u001b[0m online store.\n",
      "\n",
      "\u001b[1m\u001b[32muser_count_transactions_7d\u001b[0m from \u001b[1m\u001b[32m2025-04-07 18:16:53+00:00\u001b[0m to \u001b[1m\u001b[32m2025-04-14 18:16:47+00:00\u001b[0m:\n",
      "100%|████████████████████████████████████████████████████████| 9525/9525 [00:00<00:00, 24919.44it/s]\n",
      "\u001b[1m\u001b[32muser_account_features\u001b[0m from \u001b[1m\u001b[32m2024-04-15 18:16:56+00:00\u001b[0m to \u001b[1m\u001b[32m2025-04-14 18:16:47+00:00\u001b[0m:\n",
      "100%|████████████████████████████████████████████████████████| 9944/9944 [00:00<00:00, 16060.04it/s]\n",
      "\u001b[1m\u001b[32muser_has_fraudulent_transactions\u001b[0m from \u001b[1m\u001b[32m2024-04-15 18:16:58+00:00\u001b[0m to \u001b[1m\u001b[32m2025-04-14 18:16:47+00:00\u001b[0m:\n",
      "100%|████████████████████████████████████████████████████████| 9944/9944 [00:00<00:00, 18130.71it/s]\n"
     ]
    }
   ],
   "source": [
    "!feast materialize-incremental $(date -u +\"%Y-%m-%dT%H:%M:%S\")"
   ]
  },
  {
   "cell_type": "code",
   "execution_count": 32,
   "id": "81dc7192-8060-45e7-a30c-a7ff3d56029a",
   "metadata": {
    "tags": []
   },
   "outputs": [
    {
     "name": "stdout",
     "output_type": "stream",
     "text": [
      "[0.0]\n"
     ]
    }
   ],
   "source": [
    "from google.cloud import aiplatform\n",
    "from google.cloud.aiplatform.gapic.schema import predict\n",
    "\n",
    "def predict(entity_rows):\n",
    "    # Fetch feature data from Feast\n",
    "    feature_vector = store.get_online_features(\n",
    "        features=[\n",
    "            \"user_count_transactions_7d:transaction_count_7d\",\n",
    "            \"user_account_features:credit_score\",\n",
    "            \"user_account_features:account_age_days\",\n",
    "            \"user_account_features:user_has_2fa_installed\",\n",
    "            \"user_has_fraudulent_transactions:user_has_fraudulent_transactions_7d\"\n",
    "        ],\n",
    "        entity_rows=entity_rows\n",
    "    ).to_dict()\n",
    "\n",
    "    # Delete entity keys\n",
    "    del feature_vector[\"user_id\"]\n",
    "\n",
    "    # Flatten the response from Feast\n",
    "    instances = [\n",
    "        [feature_values[i] for feature_values in feature_vector.values()]\n",
    "        for i in range(len(entity_rows))\n",
    "    ]\n",
    "    \n",
    "    ENDPOINT_ID = \"8312823576939986944\"\n",
    "    # Initialize Vertex AI SDK with the project and endpoint\n",
    "    aiplatform.init(project=PROJECT_ID, location=\"us-central1\")  # You can set location if necessary\n",
    "\n",
    "    # Define the endpoint where the model is deployed\n",
    "    endpoint = aiplatform.Endpoint(endpoint_name=\"projects/738666983022/locations/us-central1/endpoints/8312823576939986944\")\n",
    "\n",
    "    # Predict online using the deployed model\n",
    "    prediction = endpoint.predict(instances=instances)\n",
    "\n",
    "    # Return the prediction response\n",
    "    return prediction.predictions\n",
    "\n",
    "\n",
    "# Test the prediction function with an entity row\n",
    "response = predict([{\"user_id\": \"v5zlw0\"}])\n",
    "print(response)\n"
   ]
  },
  {
   "cell_type": "code",
   "execution_count": null,
   "id": "e342d054-d205-4079-a5ec-f7518691edf6",
   "metadata": {},
   "outputs": [],
   "source": []
  }
 ],
 "metadata": {
  "environment": {
   "kernel": "conda-base-py",
   "name": "workbench-notebooks.m128",
   "type": "gcloud",
   "uri": "us-docker.pkg.dev/deeplearning-platform-release/gcr.io/workbench-notebooks:m128"
  },
  "kernelspec": {
   "display_name": "Python 3 (ipykernel) (Local)",
   "language": "python",
   "name": "conda-base-py"
  },
  "language_info": {
   "codemirror_mode": {
    "name": "ipython",
    "version": 3
   },
   "file_extension": ".py",
   "mimetype": "text/x-python",
   "name": "python",
   "nbconvert_exporter": "python",
   "pygments_lexer": "ipython3",
   "version": "3.10.16"
  }
 },
 "nbformat": 4,
 "nbformat_minor": 5
}
