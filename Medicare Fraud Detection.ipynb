{
 "cells": [
  {
   "cell_type": "code",
   "execution_count": null,
   "id": "edd225d4-379d-4209-a407-8d3d74fb4be6",
   "metadata": {
    "tags": []
   },
   "outputs": [],
   "source": [
    "!pip install -q imbalanced-learn"
   ]
  },
  {
   "cell_type": "code",
   "execution_count": 156,
   "id": "9b0e19b3-fa43-46ab-a922-8db3cbd5cfa5",
   "metadata": {},
   "outputs": [],
   "source": [
    "import pandas as pd\n",
    "import numpy as np\n",
    "import plotly.express as px\n",
    "import seaborn as sns\n",
    "import matplotlib.pyplot as plt\n",
    "from imblearn.under_sampling import RandomUnderSampler\n",
    "from imblearn.over_sampling import SMOTE\n",
    "from sklearn.preprocessing import MinMaxScaler, LabelEncoder, OneHotEncoder\n",
    "from sklearn.model_selection import train_test_split, GridSearchCV\n",
    "from sklearn.linear_model import LogisticRegression\n",
    "from sklearn.tree import DecisionTreeClassifier\n",
    "from sklearn.ensemble import RandomForestClassifier, GradientBoostingClassifier\n",
    "from sklearn.metrics import accuracy_score,precision_score,recall_score,classification_report,f1_score,confusion_matrix,ConfusionMatrixDisplay\n",
    "import warnings\n",
    "warnings.simplefilter(\"ignore\")"
   ]
  },
  {
   "cell_type": "code",
   "execution_count": null,
   "id": "102e6b9b-d78c-41eb-86ea-c5c07ff1e1c6",
   "metadata": {
    "tags": []
   },
   "outputs": [],
   "source": [
    "import imblearn\n",
    "imblearn.__version__"
   ]
  },
  {
   "cell_type": "markdown",
   "id": "103e11f2-b2a2-4797-b151-15fd0ad36f23",
   "metadata": {},
   "source": [
    "Load data from GCS"
   ]
  },
  {
   "cell_type": "code",
   "execution_count": 89,
   "id": "027435bc-9043-470c-914d-972348014dc2",
   "metadata": {
    "tags": []
   },
   "outputs": [],
   "source": [
    "Train = pd.read_csv(\"gs://modical-fraud-data/Train/Train-1542865627584.csv.xls\")\n",
    "Train_Inpatientdata = pd.read_csv(\"gs://modical-fraud-data/Train/Train_Inpatientdata-1542865627584.csv\")\n",
    "Train_Outpatientdata = pd.read_csv(\"gs://modical-fraud-data/Train/Train_Outpatientdata-1542865627584.csv\")\n",
    "Train_Benfdata = pd.read_csv(\"gs://modical-fraud-data/Train/Train_Beneficiarydata-1542865627584.csv\")"
   ]
  },
  {
   "cell_type": "code",
   "execution_count": 90,
   "id": "64eea33f-0b6f-46b9-ad81-f1e7e994b953",
   "metadata": {
    "tags": []
   },
   "outputs": [],
   "source": [
    "Test = pd.read_csv(\"gs://modical-fraud-data/Test/Test-1542969243754.csv.xls\")\n",
    "Test_Inpatientdata = pd.read_csv(\"gs://modical-fraud-data/Test/Test_Inpatientdata-1542969243754.csv\")\n",
    "Test_Outpatientdata = pd.read_csv(\"gs://modical-fraud-data/Test/Test_Outpatientdata-1542969243754.csv\")\n",
    "Test_Benfdata = pd.read_csv(\"gs://modical-fraud-data/Test/Test_Beneficiarydata-1542969243754.csv\")"
   ]
  },
  {
   "cell_type": "markdown",
   "id": "972a4485-9af0-4388-9499-5febae4b69a2",
   "metadata": {},
   "source": [
    "Exploratory Data Analysis"
   ]
  },
  {
   "cell_type": "code",
   "execution_count": null,
   "id": "41a74900-11f8-4116-aa71-89ce4063beab",
   "metadata": {
    "tags": []
   },
   "outputs": [],
   "source": [
    "print(\"Train data: {} and features {}\".format(Train.shape[0],Train.shape[1]))\n",
    "print(\"Train Inpatient data: {} and features {}\".format(Train_Inpatientdata.shape[0],Train_Inpatientdata.shape[1]))\n",
    "print(\"Train Outpatient data: {} and features {}\".format(Train_Outpatientdata.shape[0],Train_Outpatientdata.shape[1]))\n",
    "print(\"Train Beneficiary data: {} and features {}\".format(Train_Benfdata.shape[0],Train_Benfdata.shape[1]))"
   ]
  },
  {
   "cell_type": "code",
   "execution_count": null,
   "id": "722e0b96-f31e-480d-bcf4-18bb3cf806bb",
   "metadata": {
    "tags": []
   },
   "outputs": [],
   "source": [
    "print(\"Test data: {} and features {}\".format(Test.shape[0],Test.shape[1]))\n",
    "print(\"Test Inpatient data: {} and features {}\".format(Test_Inpatientdata.shape[0],Test_Inpatientdata.shape[1]))\n",
    "print(\"Test Outpatient data: {} and features {}\".format(Test_Outpatientdata.shape[0],Test_Outpatientdata.shape[1]))\n",
    "print(\"Test Beneficiary data: {} and features {}\".format(Test_Benfdata.shape[0],Test_Benfdata.shape[1]))\n"
   ]
  },
  {
   "cell_type": "code",
   "execution_count": null,
   "id": "dce9d6ff-47a6-42c7-a05e-5883637e34d8",
   "metadata": {
    "tags": []
   },
   "outputs": [],
   "source": [
    "Train.head()"
   ]
  },
  {
   "cell_type": "code",
   "execution_count": null,
   "id": "677701ba-c45b-43e8-b62a-e87007551a0b",
   "metadata": {
    "tags": []
   },
   "outputs": [],
   "source": [
    "Test.head()"
   ]
  },
  {
   "cell_type": "markdown",
   "id": "93877053-87e8-4783-b814-d3fdf754d713",
   "metadata": {},
   "source": [
    "Analyze Beneficiary Data"
   ]
  },
  {
   "cell_type": "code",
   "execution_count": null,
   "id": "de969ad5-d764-4a65-b213-16745a6d9633",
   "metadata": {
    "tags": []
   },
   "outputs": [],
   "source": [
    "Train_Benfdata.head()"
   ]
  },
  {
   "cell_type": "markdown",
   "id": "d20b5505-ec81-47cf-b2b8-f159ad67b2b8",
   "metadata": {},
   "source": [
    "Duplicate in Beneficiary data"
   ]
  },
  {
   "cell_type": "code",
   "execution_count": null,
   "id": "9a5b2d23-c46d-4106-9d28-9874be910168",
   "metadata": {
    "tags": []
   },
   "outputs": [],
   "source": [
    "print(\"Duplicate Benef id Train Benef data: \", Train_Benfdata.duplicated().sum())\n",
    "print(\"Duplicate Benef id Test Benef data: \", Test_Benfdata.duplicated().sum())"
   ]
  },
  {
   "cell_type": "markdown",
   "id": "04c4c59c-b6ad-442b-b757-808b462dc7ed",
   "metadata": {
    "tags": []
   },
   "source": [
    "Unique Beneficiaries"
   ]
  },
  {
   "cell_type": "code",
   "execution_count": null,
   "id": "4099675a-6c97-41ea-958c-481016f2e46a",
   "metadata": {
    "tags": []
   },
   "outputs": [],
   "source": [
    "print(\"Unique Benef in Train Benef data: \", Train_Benfdata['BeneID'].nunique())\n",
    "print(\"Unique Benef in Test Benef data: \", Test_Benfdata['BeneID'].nunique())"
   ]
  },
  {
   "cell_type": "markdown",
   "id": "658b895c-64e6-4e54-ad1b-18466c22eda9",
   "metadata": {},
   "source": [
    "convert DOB and DOD to datetime format"
   ]
  },
  {
   "cell_type": "code",
   "execution_count": 99,
   "id": "aa69002d-a1bf-449a-a6ab-c4ee4bc69fdc",
   "metadata": {
    "tags": []
   },
   "outputs": [],
   "source": [
    "Train_Benfdata['DOB'] = pd.to_datetime(Train_Benfdata['DOB'],format='%Y-%m-%d')\n",
    "Train_Benfdata['DOD'] = pd.to_datetime(Train_Benfdata['DOD'],format='%Y-%m-%d',errors='ignore')\n",
    "Test_Benfdata['DOB'] = pd.to_datetime(Test_Benfdata['DOB'],format='%Y-%m-%d')\n",
    "Test_Benfdata['DOD'] = pd.to_datetime(Test_Benfdata['DOD'],format='%Y-%m-%d',errors='ignore')"
   ]
  },
  {
   "cell_type": "code",
   "execution_count": 100,
   "id": "22830563-6414-4127-a0f3-ca44ee10950a",
   "metadata": {
    "tags": []
   },
   "outputs": [],
   "source": [
    "Train_Benfdata['Age'] = round((Train_Benfdata['DOD'] - Train_Benfdata['DOB']).dt.days / 365)\n",
    "Test_Benfdata['Age'] = round((Test_Benfdata['DOD'] - Test_Benfdata['DOB']).dt.days / 365)"
   ]
  },
  {
   "cell_type": "code",
   "execution_count": null,
   "id": "227b4718-1988-4243-a9bf-83c724ee25f8",
   "metadata": {
    "tags": []
   },
   "outputs": [],
   "source": [
    "Train_Benfdata['DOD'].max()"
   ]
  },
  {
   "cell_type": "code",
   "execution_count": null,
   "id": "0b1ef17a-b262-463d-8c80-edbf1b4f70a3",
   "metadata": {
    "tags": []
   },
   "outputs": [],
   "source": [
    "Test_Benfdata['DOD'].max()"
   ]
  },
  {
   "cell_type": "code",
   "execution_count": 103,
   "id": "f25f3088-1713-43ac-a052-f2a7bb480b8e",
   "metadata": {
    "tags": []
   },
   "outputs": [],
   "source": [
    "Train_Benfdata['Age'].fillna(\n",
    "    round((Train_Benfdata['DOD'].max() - Train_Benfdata['DOB']).dt.days / 365), \n",
    "    inplace=True)\n",
    "\n",
    "Test_Benfdata['Age'].fillna(\n",
    "    round((Test_Benfdata['DOD'].max() - Test_Benfdata['DOB']).dt.days / 365), \n",
    "    inplace=True)"
   ]
  },
  {
   "cell_type": "code",
   "execution_count": null,
   "id": "a3d43c7b-3767-4609-8d51-3ff90e8eac5e",
   "metadata": {
    "tags": []
   },
   "outputs": [],
   "source": [
    "print(Train_Benfdata['Age'].isna().any())\n",
    "print(Test_Benfdata['Age'].isna().any())"
   ]
  },
  {
   "cell_type": "code",
   "execution_count": 105,
   "id": "4bff502a-4627-4c5c-af34-e89a69fd3316",
   "metadata": {
    "tags": []
   },
   "outputs": [],
   "source": [
    "Train_Benfdata['AliveorDead'] = Train_Benfdata['DOD'].notna().astype(int)\n",
    "Test_Benfdata['AliveorDead'] = Test_Benfdata['DOD'].notna().astype(int)\n"
   ]
  },
  {
   "cell_type": "code",
   "execution_count": null,
   "id": "65c7226b-92be-4eac-bbeb-e568494e81a1",
   "metadata": {
    "tags": []
   },
   "outputs": [],
   "source": [
    "Train_Benfdata['AliveorDead'].value_counts()"
   ]
  },
  {
   "cell_type": "code",
   "execution_count": null,
   "id": "38fc5e16-35fb-4654-ae4e-cce3a95bb493",
   "metadata": {
    "tags": []
   },
   "outputs": [],
   "source": [
    "Test_Benfdata['AliveorDead'].value_counts()"
   ]
  },
  {
   "cell_type": "markdown",
   "id": "fd1216ee-5be1-4e6c-9b79-b8088134c3d8",
   "metadata": {},
   "source": [
    "Analyze Inpatient data"
   ]
  },
  {
   "cell_type": "code",
   "execution_count": null,
   "id": "0d7f0f7b-687e-4f60-a000-a309e6f7399f",
   "metadata": {
    "tags": []
   },
   "outputs": [],
   "source": [
    "Train_Inpatientdata.isna().sum()"
   ]
  },
  {
   "cell_type": "code",
   "execution_count": null,
   "id": "1df0872f-413e-40bd-a591-8c14822d71d5",
   "metadata": {
    "tags": []
   },
   "outputs": [],
   "source": [
    "Train_Inpatientdata.head()"
   ]
  },
  {
   "cell_type": "code",
   "execution_count": 110,
   "id": "f5339700-b4be-4c0e-b5e4-397ce0a724fa",
   "metadata": {
    "tags": []
   },
   "outputs": [],
   "source": [
    "Train_Inpatientdata['AdmissionDt'] = pd.to_datetime(Train_Inpatientdata['AdmissionDt'],format='%Y-%m-%d')\n",
    "Train_Inpatientdata['DischargeDt'] = pd.to_datetime(Train_Inpatientdata['DischargeDt'],format='%Y-%m-%d')\n",
    "Test_Inpatientdata['AdmissionDt'] = pd.to_datetime(Test_Inpatientdata['AdmissionDt'],format='%Y-%m-%d')\n",
    "Test_Inpatientdata['DischargeDt'] = pd.to_datetime(Test_Inpatientdata['DischargeDt'],format='%Y-%m-%d')"
   ]
  },
  {
   "cell_type": "code",
   "execution_count": 111,
   "id": "657823d8-9381-46f1-b072-1c289d4070fc",
   "metadata": {
    "tags": []
   },
   "outputs": [],
   "source": [
    "Train_Inpatientdata['NumberofDaysAdmitted'] = (Train_Inpatientdata['DischargeDt'] - Train_Inpatientdata['AdmissionDt']).dt.days + 1\n",
    "Test_Inpatientdata['NumberofDaysAdmitted'] = (Test_Inpatientdata['DischargeDt'] - Test_Inpatientdata['AdmissionDt']).dt.days + 1"
   ]
  },
  {
   "cell_type": "code",
   "execution_count": 112,
   "id": "288878a1-658b-4a3e-a576-d45897a35563",
   "metadata": {
    "tags": []
   },
   "outputs": [],
   "source": [
    "Train_Inpatientdata['ClaimEndDt'] = pd.to_datetime(Train_Inpatientdata['ClaimEndDt'],format='%Y-%m-%d')\n",
    "Train_Inpatientdata['ClaimStartDt'] = pd.to_datetime(Train_Inpatientdata['ClaimStartDt'],format='%Y-%m-%d')\n",
    "Test_Inpatientdata['ClaimEndDt'] = pd.to_datetime(Test_Inpatientdata['ClaimEndDt'],format='%Y-%m-%d')\n",
    "Test_Inpatientdata['ClaimStartDt'] = pd.to_datetime(Test_Inpatientdata['ClaimStartDt'],format='%Y-%m-%d')"
   ]
  },
  {
   "cell_type": "code",
   "execution_count": 113,
   "id": "47c632c5-9a47-4dc8-976d-cdaf7b485939",
   "metadata": {
    "tags": []
   },
   "outputs": [],
   "source": [
    "Train_Inpatientdata['DurationofClaim'] = (Train_Inpatientdata['ClaimEndDt'] - Train_Inpatientdata['ClaimStartDt']).dt.days\n",
    "Test_Inpatientdata['DurationofClaim'] = (Test_Inpatientdata['ClaimEndDt'] - Test_Inpatientdata['ClaimStartDt']).dt.days"
   ]
  },
  {
   "cell_type": "code",
   "execution_count": 114,
   "id": "25f4be34-3b5b-4b4b-a02c-ea6a9c7d9e57",
   "metadata": {
    "tags": []
   },
   "outputs": [],
   "source": [
    "Train_Inpatientdata['Admitted']=1\n",
    "Test_Inpatientdata['Admitted']=1"
   ]
  },
  {
   "cell_type": "code",
   "execution_count": null,
   "id": "3ac9bd1e-412c-48ad-97cc-5da2a6b0d964",
   "metadata": {
    "tags": []
   },
   "outputs": [],
   "source": [
    "px.histogram(Train_Inpatientdata,x='NumberofDaysAdmitted',title='Number of Days Admitted')"
   ]
  },
  {
   "cell_type": "code",
   "execution_count": null,
   "id": "3b52c7e1-6f4b-4e39-821b-937d10e5e17d",
   "metadata": {
    "tags": []
   },
   "outputs": [],
   "source": [
    "px.histogram(Train_Inpatientdata,x='DurationofClaim',title='Duration of Claim')"
   ]
  },
  {
   "cell_type": "markdown",
   "id": "2eb47396-a2f4-4c13-a932-1603b38d7251",
   "metadata": {},
   "source": [
    "Outpatient Data Analysis"
   ]
  },
  {
   "cell_type": "code",
   "execution_count": null,
   "id": "d1fcbc76-86ef-4bee-967a-5276ffae696d",
   "metadata": {
    "tags": []
   },
   "outputs": [],
   "source": [
    "Train_Outpatientdata.head()"
   ]
  },
  {
   "cell_type": "code",
   "execution_count": null,
   "id": "ea519fcb-6db9-45be-be97-ffc97e97e72c",
   "metadata": {
    "tags": []
   },
   "outputs": [],
   "source": [
    "Train_Outpatientdata.isnull().sum()"
   ]
  },
  {
   "cell_type": "code",
   "execution_count": null,
   "id": "10aae221-74e7-4176-a95c-60633cfd86ca",
   "metadata": {
    "tags": []
   },
   "outputs": [],
   "source": [
    "print('Duplicate rows in train set: ', Train_Outpatientdata.duplicated().sum())\n",
    "\n",
    "print('Duplicate rows in test set: ', Test_Outpatientdata.duplicated().sum())\n"
   ]
  },
  {
   "cell_type": "code",
   "execution_count": 120,
   "id": "ac20f84f-8b16-4cac-bb6c-d3aeb2d73afa",
   "metadata": {
    "tags": []
   },
   "outputs": [],
   "source": [
    "Train_Outpatientdata['Admitted'] = 0\n",
    "Test_Outpatientdata['Admitted'] = 0"
   ]
  },
  {
   "cell_type": "code",
   "execution_count": 121,
   "id": "10e1d799-d865-44e0-9c71-2c728105b278",
   "metadata": {
    "tags": []
   },
   "outputs": [],
   "source": [
    "Train_Outpatientdata['ClaimEndDt'] = pd.to_datetime(Train_Outpatientdata['ClaimEndDt'],format='%Y-%m-%d')\n",
    "Train_Outpatientdata['ClaimStartDt'] = pd.to_datetime(Train_Outpatientdata['ClaimStartDt'],format='%Y-%m-%d')\n",
    "Test_Outpatientdata['ClaimEndDt'] = pd.to_datetime(Test_Outpatientdata['ClaimEndDt'],format='%Y-%m-%d')\n",
    "Test_Outpatientdata['ClaimStartDt'] = pd.to_datetime(Test_Outpatientdata['ClaimStartDt'],format='%Y-%m-%d')"
   ]
  },
  {
   "cell_type": "code",
   "execution_count": 122,
   "id": "bbb891cd-9894-480a-a3e1-c89fdacd7824",
   "metadata": {
    "tags": []
   },
   "outputs": [],
   "source": [
    "Train_Outpatientdata['DurationofClaim'] = (Train_Outpatientdata['ClaimEndDt'] - Train_Outpatientdata['ClaimStartDt']).dt.days\n",
    "Test_Outpatientdata['DurationofClaim'] = (Test_Outpatientdata['ClaimEndDt'] - Test_Outpatientdata['ClaimStartDt']).dt.days"
   ]
  },
  {
   "cell_type": "markdown",
   "id": "08535a45-db3b-468e-9698-249fe89b6ca9",
   "metadata": {},
   "source": [
    "Data Merging between in/out patients"
   ]
  },
  {
   "cell_type": "code",
   "execution_count": null,
   "id": "dc48d299-995a-4f28-9a41-8f061b6ad5d8",
   "metadata": {
    "tags": []
   },
   "outputs": [],
   "source": [
    "common_cols = list(set(Train_Inpatientdata.columns).intersection(set(Train_Outpatientdata.columns)))\n",
    "print(common_cols)"
   ]
  },
  {
   "cell_type": "code",
   "execution_count": null,
   "id": "d550dc46-12fd-40ed-a8ea-050b441bf7a3",
   "metadata": {
    "tags": []
   },
   "outputs": [],
   "source": [
    "Train_allpatientdata = pd.merge(Train_Outpatientdata,Train_Inpatientdata,on=common_cols,how='outer')\n",
    "\n",
    "Test_allpatientdata = pd.merge(Test_Outpatientdata,Test_Inpatientdata,on=common_cols,how='outer')\n",
    "\n",
    "print(Train_allpatientdata.shape)\n",
    "print(Test_allpatientdata.shape)\n",
    "\n"
   ]
  },
  {
   "cell_type": "markdown",
   "id": "f49bd4de-0af6-48de-8c9c-85e68c6869a3",
   "metadata": {},
   "source": [
    "Merge Patient data with Beneficiary data"
   ]
  },
  {
   "cell_type": "code",
   "execution_count": 125,
   "id": "25a66588-b7af-45be-9357-8f2cda4b09a0",
   "metadata": {
    "tags": []
   },
   "outputs": [],
   "source": [
    "df_train = Train_allpatientdata.merge(Train_Benfdata,on='BeneID', how='inner')\n",
    "\n",
    "df_test = Test_allpatientdata.merge(Test_Benfdata,on='BeneID',how='inner')"
   ]
  },
  {
   "cell_type": "code",
   "execution_count": null,
   "id": "068f9dbf-fbd5-42c2-ae4b-9e587728b311",
   "metadata": {
    "tags": []
   },
   "outputs": [],
   "source": [
    "print('Training data shape: ', df_train.shape)\n",
    "print('Test data shpe: ', df_test.shape)"
   ]
  },
  {
   "cell_type": "code",
   "execution_count": 127,
   "id": "be6c3b35-d28f-4ca2-88b7-44a13eaa86bb",
   "metadata": {
    "tags": []
   },
   "outputs": [],
   "source": [
    "df_train1 = pd.merge(Train,df_train,on='Provider')\n",
    "df_test1 = pd.merge(Test,df_test,on='Provider')"
   ]
  },
  {
   "cell_type": "code",
   "execution_count": 128,
   "id": "d71ca574-fbdd-48e3-afc1-0f8c6413764d",
   "metadata": {
    "tags": []
   },
   "outputs": [],
   "source": [
    "df_train1['RenalDiseaseIndicator'].replace('Y','1',inplace=True)\n",
    "\n",
    "df_train1['RenalDiseaseIndicator']=df_train1['RenalDiseaseIndicator'].astype(int)\n",
    "\n",
    "df_test1['RenalDiseaseIndicator'].replace('Y','1',inplace=True)\n",
    "\n",
    "df_test1['RenalDiseaseIndicator']=df_test1['RenalDiseaseIndicator'].astype(int)\n",
    "\n",
    "\n",
    "\n",
    "df_train1.drop(columns=['DOB', 'DOD'], axis = 1, inplace=True)\n",
    "df_test1.drop(columns=['DOB', 'DOD'], axis = 1, inplace=True)"
   ]
  },
  {
   "cell_type": "code",
   "execution_count": 129,
   "id": "d52bafdf-077a-4ce3-81cd-69335386c206",
   "metadata": {
    "tags": []
   },
   "outputs": [],
   "source": [
    "df_train1['ClmDiagnosisCodeIndex'] = df_train1.filter(regex='ClmDiagnosisCode_').notnull().sum(axis=1)\n",
    "df_test1['ClmDiagnosisCodeIndex'] = df_test1.filter(regex='ClmDiagnosisCode_').notnull().sum(axis=1)\n",
    "df_train1['ClmProcedureCodeIndex'] = df_train1.filter(regex='ClmProcedureCode_').notnull().sum(axis=1)\n",
    "df_test1['ClmProcedureCodeIndex'] = df_test1.filter(regex='ClmProcedureCode_').notnull().sum(axis=1)"
   ]
  },
  {
   "cell_type": "code",
   "execution_count": 130,
   "id": "8ef44c41-c011-4363-80c7-7108ee08b04e",
   "metadata": {
    "tags": []
   },
   "outputs": [],
   "source": [
    "columns_to_drop = df_train1.filter(regex='ClmProcedureCode_|ClmDiagnosisCode_').columns\n",
    "df_train1 = df_train1.drop(columns_to_drop, axis=1)\n",
    "df_test1 = df_test1.drop(columns_to_drop, axis=1)"
   ]
  },
  {
   "cell_type": "code",
   "execution_count": 131,
   "id": "6c4dcac8-39e7-4fc6-b5f3-683365e61413",
   "metadata": {
    "tags": []
   },
   "outputs": [],
   "source": [
    "df_train1['NumberofDaysAdmitted'] = df_train1['NumberofDaysAdmitted'].fillna(0)\n",
    "df_test1['NumberofDaysAdmitted'] = df_test1['NumberofDaysAdmitted'].fillna(0)"
   ]
  },
  {
   "cell_type": "code",
   "execution_count": 132,
   "id": "78046c62-02e0-450d-bc58-1c6ae9147c91",
   "metadata": {
    "tags": []
   },
   "outputs": [],
   "source": [
    "df_train1 = df_train1.dropna(subset=['AttendingPhysician'])\n",
    "df_test1 = df_test1.dropna(subset=['AttendingPhysician'])\n",
    "\n",
    "df_train1['DeductibleAmtPaid'] = df_train1['DeductibleAmtPaid'].fillna(df_train1['DeductibleAmtPaid'].mean())\n",
    "df_test1['DeductibleAmtPaid'] = df_test1['DeductibleAmtPaid'].fillna(df_test1['DeductibleAmtPaid'].mean())"
   ]
  },
  {
   "cell_type": "code",
   "execution_count": 133,
   "id": "147b51ac-2658-4d58-8d9e-b499544a2a6d",
   "metadata": {
    "tags": []
   },
   "outputs": [],
   "source": [
    "'''Average features grouped by Provider'''\n",
    "\n",
    "columns_to_transform = [\"InscClaimAmtReimbursed\", \"DeductibleAmtPaid\", \"IPAnnualReimbursementAmt\", \"IPAnnualDeductibleAmt\",\"OPAnnualReimbursementAmt\", \"OPAnnualDeductibleAmt\", \"Age\", \"NoOfMonths_PartACov\", \"NoOfMonths_PartBCov\",\"DurationofClaim\",\"NumberofDaysAdmitted\"]\n",
    "\n",
    "for column in columns_to_transform:\n",
    "    df_train1[f\"PerProviderAvg_{column}\"] = df_train1.groupby('Provider')[column].transform('mean')\n",
    "    df_test1[f\"PerProviderAvg_{column}\"] = df_test1.groupby('Provider')[column].transform('mean')"
   ]
  },
  {
   "cell_type": "code",
   "execution_count": 134,
   "id": "ffb3b8a2-487d-44f7-a32f-ab9f2a1cb9aa",
   "metadata": {
    "tags": []
   },
   "outputs": [],
   "source": [
    "'''Average features group by BeneId and Operating Physician'''\n",
    "\n",
    "columns_to_transform = [\"InscClaimAmtReimbursed\",\"DeductibleAmtPaid\",\"IPAnnualReimbursementAmt\",\"IPAnnualDeductibleAmt\",\"OPAnnualReimbursementAmt\",\"OPAnnualDeductibleAmt\", \"DurationofClaim\",\"NumberofDaysAdmitted\"]\n",
    "\n",
    "\n",
    "for column in columns_to_transform:\n",
    "  \n",
    "    \n",
    "    df_train1[f\"PerBeneIDAvg_{column}\"] = df_train1.groupby('BeneID')[column].transform('mean')\n",
    "    df_test1[f\"PerBeneIDAvg_{column}\"] = df_test1.groupby('BeneID')[column].transform('mean')\n",
    "    \n",
    "    df_train1[f\"PerAttendingPhysician Avg_{column}\"] = df_train1.groupby('AttendingPhysician')[column].transform('mean')\n",
    "    df_test1[f\"PerAttendingPhysician Avg_{column}\"] = df_test1.groupby('AttendingPhysician')[column].transform('mean')"
   ]
  },
  {
   "cell_type": "code",
   "execution_count": 135,
   "id": "7e7610d0-367f-49a5-a3ea-efb573e765d9",
   "metadata": {
    "tags": []
   },
   "outputs": [],
   "source": [
    "'''Drop repeated and unnecessary features'''\n",
    "\n",
    "df_train1.drop(columns=['ClmAdmitDiagnosisCode', 'Provider', 'State', 'Race', 'Gender', 'County', 'AdmissionDt', 'AttendingPhysician', 'OtherPhysician', 'OperatingPhysician',  \n",
    "                        'DischargeDt', 'ClaimID', 'ClaimEndDt', 'DiagnosisGroupCode', 'ClaimStartDt', 'BeneID', 'ClaimID'], axis=1, inplace=True)\n",
    "\n",
    "df_test1.drop(columns=['ClmAdmitDiagnosisCode', 'State', 'Race', 'County', 'Gender', 'AdmissionDt', 'DiagnosisGroupCode', 'OperatingPhysician', 'DischargeDt', 'AttendingPhysician', 'OtherPhysician', \n",
    "                       'ClaimID', 'ClaimEndDt', 'ClaimStartDt', 'ClaimID'], axis=1, inplace=True)\n"
   ]
  },
  {
   "cell_type": "code",
   "execution_count": null,
   "id": "343da42a-f0ef-41ae-ad0d-440368a0c0c8",
   "metadata": {
    "tags": []
   },
   "outputs": [],
   "source": [
    "px.histogram(df_train1,x=\"PotentialFraud\",color='PotentialFraud',title=\"Number of Fraud chart\", height=500,width=700)"
   ]
  },
  {
   "cell_type": "markdown",
   "id": "81b75726-1714-401d-84a0-8dc820d51fd0",
   "metadata": {},
   "source": [
    "Preprocessing"
   ]
  },
  {
   "cell_type": "code",
   "execution_count": 137,
   "id": "39d93831-c41b-4ea8-bc37-6362e71ef0fc",
   "metadata": {
    "tags": []
   },
   "outputs": [],
   "source": [
    "df_train1['PotentialFraud'].replace({'No':0,'Yes':1},inplace=True)"
   ]
  },
  {
   "cell_type": "code",
   "execution_count": null,
   "id": "7439a67a-dcd0-45fe-87c5-016815cadbc2",
   "metadata": {
    "tags": []
   },
   "outputs": [],
   "source": [
    "df_train2, df_val = train_test_split(df_train1,test_size=0.10,random_state=42)\n",
    "\n",
    "Y_train = df_train2.pop('PotentialFraud')\n",
    "X_train = df_train2\n",
    "\n",
    "Y_val = df_val.pop(\"PotentialFraud\")\n",
    "X_val = df_val\n",
    "\n",
    "X_test = df_test1\n",
    "\n",
    "print(X_train.shape,X_val.shape,X_test.shape)"
   ]
  },
  {
   "cell_type": "code",
   "execution_count": 140,
   "id": "48dd1d8b-fe93-4fcd-bbba-5371784aa0b7",
   "metadata": {
    "tags": []
   },
   "outputs": [],
   "source": [
    "categorical_cols = [col for col in X_train.columns if col.startswith('ChronicCond_')]\n",
    "\n",
    "encoder = OneHotEncoder(sparse_output=False, handle_unknown='ignore')\n",
    "\n",
    "\n",
    "encoded_data_train = encoder.fit_transform(X_train[categorical_cols])\n",
    "encoded_data_val = encoder.fit_transform(X_val[categorical_cols])\n",
    "encoded_data_test = encoder.fit_transform(X_test[categorical_cols])\n",
    "\n",
    "\n",
    "encoded_df_train = pd.DataFrame(encoded_data_train,columns=encoder.get_feature_names_out())\n",
    "encoded_df_val = pd.DataFrame(encoded_data_val,columns=encoder.get_feature_names_out())\n",
    "encoded_df_test = pd.DataFrame(encoded_data_test,columns=encoder.get_feature_names_out())\n",
    "\n",
    "\n",
    "X_train = X_train.reset_index(drop=True)\n",
    "X_val = X_val.reset_index(drop=True)\n",
    "X_test = X_test.reset_index(drop=True)\n",
    "\n",
    "X_train = pd.concat([X_train.drop(categorical_cols,axis=1),encoded_df_train],axis=1)\n",
    "X_val = pd.concat([X_val.drop(categorical_cols,axis=1),encoded_df_val],axis=1)\n",
    "X_test = pd.concat([X_test.drop(categorical_cols,axis=1),encoded_df_test],axis=1)\n",
    "\n",
    "\n",
    "\n"
   ]
  },
  {
   "cell_type": "code",
   "execution_count": null,
   "id": "de7d0c67-8ca8-43d5-8f94-efe649fabf07",
   "metadata": {
    "tags": []
   },
   "outputs": [],
   "source": [
    "from collections import Counter\n",
    "\n",
    "\n",
    "print(\"before SMOTE: \", Counter(Y_train))\n",
    "\n",
    "smt = SMOTE()\n",
    "\n",
    "X_train,Y_train = smt.fit_resample(X_train,Y_train)\n",
    "\n",
    "print(\"After SMOTE: \", Counter(Y_train))\n"
   ]
  },
  {
   "cell_type": "code",
   "execution_count": null,
   "id": "e822dd41-785f-4699-8b33-d9ce417ca5bc",
   "metadata": {
    "tags": []
   },
   "outputs": [],
   "source": [
    "X_train.head()"
   ]
  },
  {
   "cell_type": "markdown",
   "id": "7238c7ea-dbff-4d99-b823-72e0e5d694be",
   "metadata": {},
   "source": [
    "Model Building"
   ]
  },
  {
   "cell_type": "code",
   "execution_count": null,
   "id": "66f6b011-9b33-406b-abda-301ea6186e97",
   "metadata": {
    "tags": []
   },
   "outputs": [],
   "source": [
    "rmf = RandomForestClassifier(n_estimators=100,random_state=0,max_depth=15)\n",
    "\n",
    "rmf.fit(X_train,Y_train)"
   ]
  },
  {
   "cell_type": "code",
   "execution_count": null,
   "id": "aacc9bd5-87bc-49d4-9294-2eb3041dcb85",
   "metadata": {
    "tags": []
   },
   "outputs": [],
   "source": [
    "print(\"Accuracy on training data: \", rmf.score(X_train,Y_train))\n",
    "\n",
    "print(\"Accuracy on validation data: \", rmf.score(X_val,Y_val))\n"
   ]
  },
  {
   "cell_type": "code",
   "execution_count": 152,
   "id": "4f276d43-6e5a-4a4b-923e-261ae8a6ec73",
   "metadata": {
    "tags": []
   },
   "outputs": [],
   "source": [
    "'''Predictions on Test set'''\n",
    "\n",
    "Y_pred = rmf.predict(X_val)\n",
    "\n"
   ]
  },
  {
   "cell_type": "code",
   "execution_count": null,
   "id": "c7de58b8-7836-4bfd-af31-c933544020fd",
   "metadata": {
    "tags": []
   },
   "outputs": [],
   "source": [
    "rec = recall_score(Y_val, Y_pred)\n",
    "pre = precision_score(Y_val, Y_pred)\n",
    "acc = accuracy_score(Y_val, Y_pred)\n",
    "f1_sc =  f1_score(Y_val, Y_pred)\n",
    "\n",
    "print(\"Accuracy :: \",acc)\n",
    "print(\"Precision :: \",pre)\n",
    "print(\"Recall :: \", rec)\n",
    "print(\"f1_score\", f1_sc)"
   ]
  },
  {
   "cell_type": "code",
   "execution_count": null,
   "id": "3029b30a-fa06-4664-ad6a-c4dd0064b3a4",
   "metadata": {},
   "outputs": [],
   "source": [
    "disp = ConfusionMatrixDisplay(confusion_matrix=cm_RF)\n",
    "disp.plot(cmap=plt.cm.Blues)\n",
    "plt.title(\"Random Forest Confusion Matrix\")\n",
    "plt.show()"
   ]
  }
 ],
 "metadata": {
  "environment": {
   "kernel": "conda-base-py",
   "name": "workbench-notebooks.m128",
   "type": "gcloud",
   "uri": "us-docker.pkg.dev/deeplearning-platform-release/gcr.io/workbench-notebooks:m128"
  },
  "kernelspec": {
   "display_name": "Python 3 (ipykernel) (Local)",
   "language": "python",
   "name": "conda-base-py"
  },
  "language_info": {
   "codemirror_mode": {
    "name": "ipython",
    "version": 3
   },
   "file_extension": ".py",
   "mimetype": "text/x-python",
   "name": "python",
   "nbconvert_exporter": "python",
   "pygments_lexer": "ipython3",
   "version": "3.10.16"
  }
 },
 "nbformat": 4,
 "nbformat_minor": 5
}
